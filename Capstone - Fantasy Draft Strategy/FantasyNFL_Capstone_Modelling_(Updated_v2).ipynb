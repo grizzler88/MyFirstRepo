{
  "nbformat": 4,
  "nbformat_minor": 0,
  "metadata": {
    "colab": {
      "name": "FantasyNFL_Capstone_Modelling (Updated v2).ipynb",
      "provenance": [],
      "authorship_tag": "ABX9TyMolUuUc6noDt9T6KliaVBe",
      "include_colab_link": true
    },
    "kernelspec": {
      "name": "python3",
      "display_name": "Python 3"
    }
  },
  "cells": [
    {
      "cell_type": "markdown",
      "metadata": {
        "id": "view-in-github",
        "colab_type": "text"
      },
      "source": [
        "<a href=\"https://colab.research.google.com/github/grizzler88/MyFirstRepo/blob/master/Capstone%20-%20Fantasy%20Draft%20Strategy/FantasyNFL_Capstone_Modelling_(Updated_v2).ipynb\" target=\"_parent\"><img src=\"https://colab.research.google.com/assets/colab-badge.svg\" alt=\"Open In Colab\"/></a>"
      ]
    },
    {
      "cell_type": "markdown",
      "metadata": {
        "id": "pUp_-swjt-v4"
      },
      "source": [
        "# Capstone 1: Fantasy NFL (Modelling)"
      ]
    },
    {
      "cell_type": "markdown",
      "metadata": {
        "id": "xCBp8qMAuSGs"
      },
      "source": [
        "The next step for my Capstone project is to clean up the latest verion of my dataset to ensure it is ready for the Modelling stage of the project."
      ]
    },
    {
      "cell_type": "markdown",
      "metadata": {
        "id": "tPqphUbWnh_h"
      },
      "source": [
        "## Getting Started"
      ]
    },
    {
      "cell_type": "markdown",
      "metadata": {
        "id": "HnyZlBaZAXJC"
      },
      "source": [
        "### Import packages & load dataset"
      ]
    },
    {
      "cell_type": "code",
      "metadata": {
        "id": "1Ypq-wMAxGSw"
      },
      "source": [
        "import numpy as np\r\n",
        "import pandas as pd\r\n",
        "import matplotlib.pyplot as plt\r\n",
        "import seaborn as sns"
      ],
      "execution_count": 1,
      "outputs": []
    },
    {
      "cell_type": "code",
      "metadata": {
        "id": "bsZghOnjwo2T"
      },
      "source": [
        "df = pd.read_csv('NFL_FantasyData_2015_2019_EDA_v3.csv')\r\n",
        "#df.head()"
      ],
      "execution_count": 2,
      "outputs": []
    },
    {
      "cell_type": "markdown",
      "metadata": {
        "id": "S2k0Dhg1AhS6"
      },
      "source": [
        "### Review Dataset"
      ]
    },
    {
      "cell_type": "markdown",
      "metadata": {
        "id": "Vp18uLyYytTh"
      },
      "source": [
        "Dataset has unamed column 'Unnamed: 0' from import that is not of value and should be removed."
      ]
    },
    {
      "cell_type": "code",
      "metadata": {
        "id": "SBlhCn-vx7uj"
      },
      "source": [
        "df = df.drop(columns='Unnamed: 0')"
      ],
      "execution_count": 3,
      "outputs": []
    },
    {
      "cell_type": "code",
      "metadata": {
        "id": "aq_wACrYyN48"
      },
      "source": [
        "#df.head()"
      ],
      "execution_count": 4,
      "outputs": []
    },
    {
      "cell_type": "code",
      "metadata": {
        "colab": {
          "base_uri": "https://localhost:8080/"
        },
        "id": "G4uJrNQy_ULT",
        "outputId": "12f49133-fc8d-42c0-d622-3b0fa221912a"
      },
      "source": [
        "df.shape"
      ],
      "execution_count": 5,
      "outputs": [
        {
          "output_type": "execute_result",
          "data": {
            "text/plain": [
              "(22410, 47)"
            ]
          },
          "metadata": {
            "tags": []
          },
          "execution_count": 5
        }
      ]
    },
    {
      "cell_type": "markdown",
      "metadata": {
        "id": "dNYAKPZU2R77"
      },
      "source": [
        "Next, we will look see what data types are in the dataset"
      ]
    },
    {
      "cell_type": "code",
      "metadata": {
        "colab": {
          "base_uri": "https://localhost:8080/"
        },
        "id": "w6H7QoSlzPFn",
        "outputId": "8fd4d4a2-581f-415f-a36a-50a99635b33d"
      },
      "source": [
        "df.info()"
      ],
      "execution_count": 6,
      "outputs": [
        {
          "output_type": "stream",
          "text": [
            "<class 'pandas.core.frame.DataFrame'>\n",
            "RangeIndex: 22410 entries, 0 to 22409\n",
            "Data columns (total 47 columns):\n",
            " #   Column           Non-Null Count  Dtype  \n",
            "---  ------           --------------  -----  \n",
            " 0   TEAM             22410 non-null  object \n",
            " 1   OPP              22410 non-null  object \n",
            " 2   DATE             22410 non-null  object \n",
            " 3   SEASON           22410 non-null  int64  \n",
            " 4   WEEK             22410 non-null  object \n",
            " 5   MONTH            22410 non-null  object \n",
            " 6   TIME             22410 non-null  object \n",
            " 7   POS              22410 non-null  object \n",
            " 8   PLAYER           22410 non-null  object \n",
            " 9   FAN_ACTUAL       22410 non-null  float64\n",
            " 10  HOME             22410 non-null  int64  \n",
            " 11  DOME             22410 non-null  int64  \n",
            " 12  GRASS            22410 non-null  int64  \n",
            " 13  SUNDAY           22410 non-null  int64  \n",
            " 14  WEEK_SEASON_ID   22410 non-null  int64  \n",
            " 15  FAN_AVG          22410 non-null  float64\n",
            " 16  PASSCOMP_AVG     22410 non-null  float64\n",
            " 17  PASSATT_AVG      22410 non-null  float64\n",
            " 18  PASSCOMP%_AVG    22410 non-null  float64\n",
            " 19  PASSYDS_AVG      22410 non-null  float64\n",
            " 20  PASSTD_AVG       22410 non-null  float64\n",
            " 21  INT_AVG          22410 non-null  float64\n",
            " 22  QBRAT_AVG        22410 non-null  float64\n",
            " 23  SACK_AVG         22410 non-null  float64\n",
            " 24  SACKYDS_AVG      22410 non-null  float64\n",
            " 25  PASSYDS_300_AVG  22410 non-null  float64\n",
            " 26  PASSYDS_400_AVG  22410 non-null  float64\n",
            " 27  RUSHATT_AVG      22410 non-null  float64\n",
            " 28  RUSHYDS_AVG      22410 non-null  float64\n",
            " 29  RUSHTD_AVG       22410 non-null  float64\n",
            " 30  FUM_AVG          22410 non-null  float64\n",
            " 31  FUMLST_AVG       22410 non-null  float64\n",
            " 32  RUSHYDS_100_AVG  22410 non-null  float64\n",
            " 33  RUSHYDS_200_AVG  22410 non-null  float64\n",
            " 34  TGTS_AVG         22410 non-null  float64\n",
            " 35  REC_AVG          22410 non-null  float64\n",
            " 36  RECYDS_AVG       22410 non-null  float64\n",
            " 37  RECTD_AVG        22410 non-null  float64\n",
            " 38  RECYDS_100_AVG   22410 non-null  float64\n",
            " 39  RECYDS_200_AVG   22410 non-null  float64\n",
            " 40  PTS_FOR_AVG      22410 non-null  float64\n",
            " 41  PTS_AGT_AVG      22410 non-null  float64\n",
            " 42  WIN/TIE_AVG      22410 non-null  float64\n",
            " 43  OPP_PTS_FOR_AVG  22410 non-null  float64\n",
            " 44  OPP_PTS_AGT_AVG  22410 non-null  float64\n",
            " 45  OPP_WIN/TIE_AVG  22410 non-null  float64\n",
            " 46  cluster_4        22410 non-null  int64  \n",
            "dtypes: float64(32), int64(7), object(8)\n",
            "memory usage: 8.0+ MB\n"
          ],
          "name": "stdout"
        }
      ]
    },
    {
      "cell_type": "markdown",
      "metadata": {
        "id": "mor-LMRc3mvt"
      },
      "source": [
        "There are 8 objects or categorical variables that we will need to make numeric."
      ]
    },
    {
      "cell_type": "markdown",
      "metadata": {
        "id": "eT7lDGay3w6w"
      },
      "source": [
        "### Categorical variables"
      ]
    },
    {
      "cell_type": "code",
      "metadata": {
        "id": "OYr5lWoN6tcl"
      },
      "source": [
        "object_cols = list(df.columns[df.dtypes == np.object])"
      ],
      "execution_count": 7,
      "outputs": []
    },
    {
      "cell_type": "code",
      "metadata": {
        "colab": {
          "base_uri": "https://localhost:8080/"
        },
        "id": "KtHoTad68Col",
        "outputId": "cdc2e539-f616-4d00-f81e-0c005666af87"
      },
      "source": [
        "for x in object_cols:\r\n",
        "  val = df[x].nunique()\r\n",
        "  print(x,' = ', val)"
      ],
      "execution_count": 8,
      "outputs": [
        {
          "output_type": "stream",
          "text": [
            "TEAM  =  32\n",
            "OPP  =  32\n",
            "DATE  =  248\n",
            "WEEK  =  17\n",
            "MONTH  =  5\n",
            "TIME  =  3\n",
            "POS  =  4\n",
            "PLAYER  =  1012\n"
          ],
          "name": "stdout"
        }
      ]
    },
    {
      "cell_type": "markdown",
      "metadata": {
        "id": "CnJQypM48uY9"
      },
      "source": [
        "The review of the ojbect columns shows that including them all would create +1,300 new columns.\r\n",
        "\r\n",
        "For the moment, we will not look at the date fields of DATE, WEEK, MONTH, DAY, TIME.\r\n",
        "\r\n",
        "We will instead concentrate on the POS, TEAM, OPP, and PLAYER columns. "
      ]
    },
    {
      "cell_type": "markdown",
      "metadata": {
        "id": "zVIDYK5FyVI3"
      },
      "source": [
        "#### Remove 'PLAYER' column"
      ]
    },
    {
      "cell_type": "markdown",
      "metadata": {
        "id": "JkVkZkoVe4GD"
      },
      "source": [
        "First, I will remove the PLAYER field. Turning this to dummy values would create 1,011 additional columns which would add too many dimensions to the problem. It is also unlikely that the player's name itself will be a main indicator of performance, but rather the statistics that they produce."
      ]
    },
    {
      "cell_type": "code",
      "metadata": {
        "id": "nWD5sveDfaOL"
      },
      "source": [
        "df = df.drop(columns='PLAYER')"
      ],
      "execution_count": 9,
      "outputs": []
    },
    {
      "cell_type": "code",
      "metadata": {
        "id": "RX93LRwKyk3v"
      },
      "source": [
        "#df.shape"
      ],
      "execution_count": 10,
      "outputs": []
    },
    {
      "cell_type": "markdown",
      "metadata": {
        "id": "IZv53pN8yrkz"
      },
      "source": [
        "#### Remove 'TEAM' and 'OPP' column"
      ]
    },
    {
      "cell_type": "markdown",
      "metadata": {
        "id": "Oh_J3pwjfk2E"
      },
      "source": [
        "Transforming the TEAM and OPP columns into dummy variables would add 31 columns each. We also noted during our EDA that, althought the Team and Coach columns were providing us with information, that this information could be proxied using team peformance statisitcs (i.e. it likely isn't the name of the team that influences a player performance but rather the team performance under a certain organisation structure that influences it).\r\n",
        "\r\n",
        "With this in mind, I have decided to remove both the 'TEAM' and 'OPP' column. However, based on the performance of our initial modelling we could look to reintroduce if required."
      ]
    },
    {
      "cell_type": "code",
      "metadata": {
        "id": "OzHICw-R0NHO"
      },
      "source": [
        "df = df.drop(columns=['TEAM', 'OPP'])"
      ],
      "execution_count": 11,
      "outputs": []
    },
    {
      "cell_type": "code",
      "metadata": {
        "id": "brDbdPj80TtW"
      },
      "source": [
        "#df.shape"
      ],
      "execution_count": 12,
      "outputs": []
    },
    {
      "cell_type": "markdown",
      "metadata": {
        "id": "GNoOn21-0ZBP"
      },
      "source": [
        "#### Create dummy variables for 'POS' column"
      ]
    },
    {
      "cell_type": "markdown",
      "metadata": {
        "id": "7xJT7yb80eiw"
      },
      "source": [
        "Throughout the EDA, we saw that position of a player was an important indicator of fantasy performance and therefore we will include it in our model. To do this, we will create dummy variables below."
      ]
    },
    {
      "cell_type": "code",
      "metadata": {
        "id": "ILAv0Klb-Pga"
      },
      "source": [
        "dummy_POS = pd.get_dummies(df.POS, prefix='POS', drop_first=True)"
      ],
      "execution_count": 13,
      "outputs": []
    },
    {
      "cell_type": "code",
      "metadata": {
        "id": "IwzwF0hM_Wrs"
      },
      "source": [
        "df = pd.concat([df, dummy_POS], axis=1).drop(columns=['POS'])"
      ],
      "execution_count": 14,
      "outputs": []
    },
    {
      "cell_type": "code",
      "metadata": {
        "colab": {
          "base_uri": "https://localhost:8080/"
        },
        "id": "AeXkuZv4Dj0N",
        "outputId": "eb7edcc0-bfe0-4599-d5c6-777465120105"
      },
      "source": [
        "df.head()\r\n",
        "df.shape"
      ],
      "execution_count": 15,
      "outputs": [
        {
          "output_type": "execute_result",
          "data": {
            "text/plain": [
              "(22410, 46)"
            ]
          },
          "metadata": {
            "tags": []
          },
          "execution_count": 15
        }
      ]
    },
    {
      "cell_type": "markdown",
      "metadata": {
        "id": "nu4suFeODoNi"
      },
      "source": [
        "### Date variables"
      ]
    },
    {
      "cell_type": "markdown",
      "metadata": {
        "id": "0posDJxm4UUA"
      },
      "source": [
        "#### Date"
      ]
    },
    {
      "cell_type": "markdown",
      "metadata": {
        "id": "SJvC-z624Xsa"
      },
      "source": [
        "Our data has 248 unique values in our 'DATE' column. While we want to capture some time element in our model, I don't believe it needs to be as granular as a specific date. For this reason, we will remove the date field from our data set for now but can look to include again if we believe the time is becoming an issue with our data."
      ]
    },
    {
      "cell_type": "code",
      "metadata": {
        "id": "8Sp-s5vQ5Yn9"
      },
      "source": [
        "df = df.drop(columns=['DATE'])"
      ],
      "execution_count": 16,
      "outputs": []
    },
    {
      "cell_type": "code",
      "metadata": {
        "colab": {
          "base_uri": "https://localhost:8080/"
        },
        "id": "LieMCfR55fgo",
        "outputId": "280bf574-e02e-4516-c6f7-211126abd2c6"
      },
      "source": [
        "df.shape"
      ],
      "execution_count": 17,
      "outputs": [
        {
          "output_type": "execute_result",
          "data": {
            "text/plain": [
              "(22410, 45)"
            ]
          },
          "metadata": {
            "tags": []
          },
          "execution_count": 17
        }
      ]
    },
    {
      "cell_type": "markdown",
      "metadata": {
        "id": "vBIT6wzk4Prw"
      },
      "source": [
        "#### Week, Month & Season"
      ]
    },
    {
      "cell_type": "markdown",
      "metadata": {
        "id": "-C8_D2Oc5khj"
      },
      "source": [
        "As mentioned when removing the 'DATE' column, we have other variables in our dataset that we believe can capture the time and date aspect of data. This namely relates to the following columns:\r\n",
        "\r\n",
        "* 'WEEK' - what gamewek was a game played in (there are 17 gameweeks in an NFL season)\r\n",
        "* 'MONTH' - what month was a game played in\r\n",
        "* 'SEASON' - what season was a game played in\r\n",
        "* 'WEEK_SEASON_ID' - what number in order did a game get played in since start of this dataset\r\n",
        "* 'SUNDAY' - was game played on a Sunday (1 if yes, 0 if no)\r\n",
        "* 'TIME' - what time was game played (Noon, Afternoon, Night)\r\n",
        "\r\n",
        "\r\n",
        "For this, there are two main decisions that need to be answered in order:\r\n",
        "\r\n",
        "1.  Do we want to include 'WEEK_SEASON_ID'?\r\n",
        "  * This is an ordered numeric series that may cause issues with our model if not correctly applied. For this reason, it is probably best to __remove 'WEEK_SEASON_ID'.__\r\n",
        "\r\n",
        "2.  Do we want to keep 'WEEK' or 'MONTH' column?\r\n",
        "  * During our EDA, we found that both showed a trend that as the season went on the lower average fantasy points became. However, including both will likely create a duplication of information so it is probably best to proceed with only one for our modelling. __As 'MONTH' required fewer variables, we will begin with this but can return to include 'WEEK' if required later.__\r\n",
        "\r\n",
        "\r\n",
        "This means that we will proceed with the 'MONTH', 'SEASON', 'TIME', and 'SUNDAY' columns to capture the time elements of the data in our modelling. To do this, we will need to create dummy variable for all the columns (for 'SEASON' we will first have to turn into an object), except for 'SUNDAY' which is already created as a boolean/binary column."
      ]
    },
    {
      "cell_type": "code",
      "metadata": {
        "id": "OJyT7zT69LnK"
      },
      "source": [
        "df = df.drop(columns=['WEEK_SEASON_ID', 'WEEK'])"
      ],
      "execution_count": 18,
      "outputs": []
    },
    {
      "cell_type": "code",
      "metadata": {
        "colab": {
          "base_uri": "https://localhost:8080/"
        },
        "id": "0ZyFRbCH-mHn",
        "outputId": "1ba12eaa-9abd-4079-a0b9-1f3d4878a00c"
      },
      "source": [
        "df.shape"
      ],
      "execution_count": 19,
      "outputs": [
        {
          "output_type": "execute_result",
          "data": {
            "text/plain": [
              "(22410, 43)"
            ]
          },
          "metadata": {
            "tags": []
          },
          "execution_count": 19
        }
      ]
    },
    {
      "cell_type": "code",
      "metadata": {
        "id": "2H9wJLPe9T4v"
      },
      "source": [
        "df['SEASON'] = df['SEASON'].astype(object)"
      ],
      "execution_count": 20,
      "outputs": []
    },
    {
      "cell_type": "code",
      "metadata": {
        "id": "6wwqjILg-wHz"
      },
      "source": [
        "dummy_SEASON = pd.get_dummies(df.SEASON, prefix='SEASON', drop_first=True)\r\n",
        "dummy_MONTH = pd.get_dummies(df.MONTH, prefix='MONTH', drop_first=True)\r\n",
        "dummy_TIME = pd.get_dummies(df.TIME, prefix='TIME', drop_first=True)"
      ],
      "execution_count": 21,
      "outputs": []
    },
    {
      "cell_type": "code",
      "metadata": {
        "id": "P3mtzuvd-8rr"
      },
      "source": [
        "df = pd.concat([df, dummy_SEASON, dummy_MONTH, dummy_TIME], axis=1).drop(columns=['SEASON', 'MONTH', 'TIME'])"
      ],
      "execution_count": 22,
      "outputs": []
    },
    {
      "cell_type": "code",
      "metadata": {
        "colab": {
          "base_uri": "https://localhost:8080/"
        },
        "id": "4K67_Y3d_KzR",
        "outputId": "24645411-8eec-4a59-935c-f6aefeba12ab"
      },
      "source": [
        "df.head()\r\n",
        "df.shape"
      ],
      "execution_count": 23,
      "outputs": [
        {
          "output_type": "execute_result",
          "data": {
            "text/plain": [
              "(22410, 50)"
            ]
          },
          "metadata": {
            "tags": []
          },
          "execution_count": 23
        }
      ]
    },
    {
      "cell_type": "markdown",
      "metadata": {
        "id": "kcCzcHqg8JWd"
      },
      "source": [
        "## Training and Test Data"
      ]
    },
    {
      "cell_type": "markdown",
      "metadata": {
        "id": "6OUsF85f8Wv0"
      },
      "source": [
        "Now that all the data is in numeric format, we will have to scale to ensure it has the correct distribution to support modelling. However, prior to this, we will need to split our data into Train and Test data."
      ]
    },
    {
      "cell_type": "markdown",
      "metadata": {
        "id": "LQHA5ZJa_ln3"
      },
      "source": [
        "First, I will import the train_test_split fuction from sklearn."
      ]
    },
    {
      "cell_type": "code",
      "metadata": {
        "id": "e0kntCA98Vy6"
      },
      "source": [
        "from sklearn.model_selection import train_test_split"
      ],
      "execution_count": 24,
      "outputs": []
    },
    {
      "cell_type": "markdown",
      "metadata": {
        "id": "AxGzh1Wx_v0x"
      },
      "source": [
        "Next, I will breakout my data into independent and dependent variables. \r\n",
        "\r\n",
        "For our model, we have two potential dependent variables  - 'FAN_ACTUAL' or 'cluster_4'.  'FAN_ACTUAL' is a a continuous variable and 'cluster_4' is a categorical variable meaning the choice between which variable we use will dicate what type of model - regression or classification.\r\n",
        "\r\n",
        "To start we will focus on 'FAN_ACTUAL'."
      ]
    },
    {
      "cell_type": "code",
      "metadata": {
        "id": "bkgtmNEe-aWb"
      },
      "source": [
        "X = df.drop(['FAN_ACTUAL', 'cluster_4'], axis=1)\r\n",
        "y = df['FAN_ACTUAL']"
      ],
      "execution_count": 25,
      "outputs": []
    },
    {
      "cell_type": "markdown",
      "metadata": {
        "id": "iOQOTokG_-bx"
      },
      "source": [
        "Now, I will split my data into training and test data. Due to the high number of dimensions in the dataset, I am going to set my test zize at 20% - lower than the default option of 25%. "
      ]
    },
    {
      "cell_type": "code",
      "metadata": {
        "id": "3MlVnSQ690GA"
      },
      "source": [
        "X_train, X_test, y_train, y_test = train_test_split(X, y, test_size=.25, random_state=42)"
      ],
      "execution_count": 26,
      "outputs": []
    },
    {
      "cell_type": "markdown",
      "metadata": {
        "id": "6Uh0X6PNBefn"
      },
      "source": [
        "## Scaling"
      ]
    },
    {
      "cell_type": "code",
      "metadata": {
        "colab": {
          "base_uri": "https://localhost:8080/",
          "height": 0
        },
        "id": "saGtf5BVTAwv",
        "outputId": "a3b88caf-eaad-4a69-c43d-bf445e37d706"
      },
      "source": [
        "X.describe()"
      ],
      "execution_count": 27,
      "outputs": [
        {
          "output_type": "execute_result",
          "data": {
            "text/html": [
              "<div>\n",
              "<style scoped>\n",
              "    .dataframe tbody tr th:only-of-type {\n",
              "        vertical-align: middle;\n",
              "    }\n",
              "\n",
              "    .dataframe tbody tr th {\n",
              "        vertical-align: top;\n",
              "    }\n",
              "\n",
              "    .dataframe thead th {\n",
              "        text-align: right;\n",
              "    }\n",
              "</style>\n",
              "<table border=\"1\" class=\"dataframe\">\n",
              "  <thead>\n",
              "    <tr style=\"text-align: right;\">\n",
              "      <th></th>\n",
              "      <th>HOME</th>\n",
              "      <th>DOME</th>\n",
              "      <th>GRASS</th>\n",
              "      <th>SUNDAY</th>\n",
              "      <th>FAN_AVG</th>\n",
              "      <th>PASSCOMP_AVG</th>\n",
              "      <th>PASSATT_AVG</th>\n",
              "      <th>PASSCOMP%_AVG</th>\n",
              "      <th>PASSYDS_AVG</th>\n",
              "      <th>PASSTD_AVG</th>\n",
              "      <th>INT_AVG</th>\n",
              "      <th>QBRAT_AVG</th>\n",
              "      <th>SACK_AVG</th>\n",
              "      <th>SACKYDS_AVG</th>\n",
              "      <th>PASSYDS_300_AVG</th>\n",
              "      <th>PASSYDS_400_AVG</th>\n",
              "      <th>RUSHATT_AVG</th>\n",
              "      <th>RUSHYDS_AVG</th>\n",
              "      <th>RUSHTD_AVG</th>\n",
              "      <th>FUM_AVG</th>\n",
              "      <th>FUMLST_AVG</th>\n",
              "      <th>RUSHYDS_100_AVG</th>\n",
              "      <th>RUSHYDS_200_AVG</th>\n",
              "      <th>TGTS_AVG</th>\n",
              "      <th>REC_AVG</th>\n",
              "      <th>RECYDS_AVG</th>\n",
              "      <th>RECTD_AVG</th>\n",
              "      <th>RECYDS_100_AVG</th>\n",
              "      <th>RECYDS_200_AVG</th>\n",
              "      <th>PTS_FOR_AVG</th>\n",
              "      <th>PTS_AGT_AVG</th>\n",
              "      <th>WIN/TIE_AVG</th>\n",
              "      <th>OPP_PTS_FOR_AVG</th>\n",
              "      <th>OPP_PTS_AGT_AVG</th>\n",
              "      <th>OPP_WIN/TIE_AVG</th>\n",
              "      <th>POS_RB</th>\n",
              "      <th>POS_TE</th>\n",
              "      <th>POS_WR</th>\n",
              "      <th>SEASON_2016</th>\n",
              "      <th>SEASON_2017</th>\n",
              "      <th>SEASON_2018</th>\n",
              "      <th>SEASON_2019</th>\n",
              "      <th>MONTH_January</th>\n",
              "      <th>MONTH_November</th>\n",
              "      <th>MONTH_October</th>\n",
              "      <th>MONTH_September</th>\n",
              "      <th>TIME_Night</th>\n",
              "      <th>TIME_Noon</th>\n",
              "    </tr>\n",
              "  </thead>\n",
              "  <tbody>\n",
              "    <tr>\n",
              "      <th>count</th>\n",
              "      <td>22410.00000</td>\n",
              "      <td>22410.000000</td>\n",
              "      <td>22410.000000</td>\n",
              "      <td>22410.000000</td>\n",
              "      <td>22410.000000</td>\n",
              "      <td>22410.000000</td>\n",
              "      <td>22410.000000</td>\n",
              "      <td>22410.000000</td>\n",
              "      <td>22410.000000</td>\n",
              "      <td>22410.000000</td>\n",
              "      <td>22410.000000</td>\n",
              "      <td>22410.000000</td>\n",
              "      <td>22410.000000</td>\n",
              "      <td>22410.000000</td>\n",
              "      <td>22410.000000</td>\n",
              "      <td>22410.000000</td>\n",
              "      <td>22410.000000</td>\n",
              "      <td>22410.000000</td>\n",
              "      <td>22410.000000</td>\n",
              "      <td>22410.000000</td>\n",
              "      <td>22410.000000</td>\n",
              "      <td>22410.000000</td>\n",
              "      <td>22410.000000</td>\n",
              "      <td>22410.000000</td>\n",
              "      <td>22410.000000</td>\n",
              "      <td>22410.000000</td>\n",
              "      <td>22410.000000</td>\n",
              "      <td>22410.000000</td>\n",
              "      <td>22410.000000</td>\n",
              "      <td>22410.000000</td>\n",
              "      <td>22410.000000</td>\n",
              "      <td>22410.000000</td>\n",
              "      <td>22410.000000</td>\n",
              "      <td>22410.000000</td>\n",
              "      <td>22410.000000</td>\n",
              "      <td>22410.000000</td>\n",
              "      <td>22410.000000</td>\n",
              "      <td>22410.000000</td>\n",
              "      <td>22410.000000</td>\n",
              "      <td>22410.000000</td>\n",
              "      <td>22410.000000</td>\n",
              "      <td>22410.000000</td>\n",
              "      <td>22410.000000</td>\n",
              "      <td>22410.00000</td>\n",
              "      <td>22410.000000</td>\n",
              "      <td>22410.000000</td>\n",
              "      <td>22410.000000</td>\n",
              "      <td>22410.000000</td>\n",
              "    </tr>\n",
              "    <tr>\n",
              "      <th>mean</th>\n",
              "      <td>0.49286</td>\n",
              "      <td>0.250870</td>\n",
              "      <td>0.559036</td>\n",
              "      <td>0.847256</td>\n",
              "      <td>7.540876</td>\n",
              "      <td>2.452454</td>\n",
              "      <td>3.861323</td>\n",
              "      <td>0.079474</td>\n",
              "      <td>27.963528</td>\n",
              "      <td>0.175565</td>\n",
              "      <td>0.089573</td>\n",
              "      <td>11.367761</td>\n",
              "      <td>0.256783</td>\n",
              "      <td>1.699108</td>\n",
              "      <td>0.053429</td>\n",
              "      <td>0.003153</td>\n",
              "      <td>2.895828</td>\n",
              "      <td>12.283151</td>\n",
              "      <td>0.089194</td>\n",
              "      <td>0.116354</td>\n",
              "      <td>0.055332</td>\n",
              "      <td>0.042600</td>\n",
              "      <td>0.000491</td>\n",
              "      <td>3.633118</td>\n",
              "      <td>2.441280</td>\n",
              "      <td>27.912379</td>\n",
              "      <td>0.174554</td>\n",
              "      <td>0.084627</td>\n",
              "      <td>0.000807</td>\n",
              "      <td>22.746088</td>\n",
              "      <td>22.665462</td>\n",
              "      <td>0.504332</td>\n",
              "      <td>22.667321</td>\n",
              "      <td>22.712480</td>\n",
              "      <td>0.500892</td>\n",
              "      <td>0.296029</td>\n",
              "      <td>0.184516</td>\n",
              "      <td>0.391031</td>\n",
              "      <td>0.203614</td>\n",
              "      <td>0.204596</td>\n",
              "      <td>0.202811</td>\n",
              "      <td>0.201830</td>\n",
              "      <td>0.025524</td>\n",
              "      <td>0.23784</td>\n",
              "      <td>0.253503</td>\n",
              "      <td>0.191120</td>\n",
              "      <td>0.196430</td>\n",
              "      <td>0.549353</td>\n",
              "    </tr>\n",
              "    <tr>\n",
              "      <th>std</th>\n",
              "      <td>0.49996</td>\n",
              "      <td>0.433524</td>\n",
              "      <td>0.496514</td>\n",
              "      <td>0.359749</td>\n",
              "      <td>6.161600</td>\n",
              "      <td>6.878654</td>\n",
              "      <td>10.756930</td>\n",
              "      <td>0.208177</td>\n",
              "      <td>78.749941</td>\n",
              "      <td>0.535357</td>\n",
              "      <td>0.296911</td>\n",
              "      <td>29.988032</td>\n",
              "      <td>0.778899</td>\n",
              "      <td>5.273701</td>\n",
              "      <td>0.222486</td>\n",
              "      <td>0.030521</td>\n",
              "      <td>4.947567</td>\n",
              "      <td>22.129624</td>\n",
              "      <td>0.219471</td>\n",
              "      <td>0.239117</td>\n",
              "      <td>0.138890</td>\n",
              "      <td>0.184523</td>\n",
              "      <td>0.011799</td>\n",
              "      <td>2.909681</td>\n",
              "      <td>1.906358</td>\n",
              "      <td>25.561921</td>\n",
              "      <td>0.262745</td>\n",
              "      <td>0.248650</td>\n",
              "      <td>0.014224</td>\n",
              "      <td>5.930808</td>\n",
              "      <td>5.475222</td>\n",
              "      <td>0.285957</td>\n",
              "      <td>5.940760</td>\n",
              "      <td>5.459414</td>\n",
              "      <td>0.286925</td>\n",
              "      <td>0.456514</td>\n",
              "      <td>0.387913</td>\n",
              "      <td>0.487992</td>\n",
              "      <td>0.402694</td>\n",
              "      <td>0.403415</td>\n",
              "      <td>0.402102</td>\n",
              "      <td>0.401375</td>\n",
              "      <td>0.157715</td>\n",
              "      <td>0.42577</td>\n",
              "      <td>0.435026</td>\n",
              "      <td>0.393192</td>\n",
              "      <td>0.397306</td>\n",
              "      <td>0.497569</td>\n",
              "    </tr>\n",
              "    <tr>\n",
              "      <th>min</th>\n",
              "      <td>0.00000</td>\n",
              "      <td>0.000000</td>\n",
              "      <td>0.000000</td>\n",
              "      <td>0.000000</td>\n",
              "      <td>-2.100000</td>\n",
              "      <td>0.000000</td>\n",
              "      <td>0.000000</td>\n",
              "      <td>0.000000</td>\n",
              "      <td>0.000000</td>\n",
              "      <td>0.000000</td>\n",
              "      <td>0.000000</td>\n",
              "      <td>0.000000</td>\n",
              "      <td>0.000000</td>\n",
              "      <td>0.000000</td>\n",
              "      <td>0.000000</td>\n",
              "      <td>0.000000</td>\n",
              "      <td>0.000000</td>\n",
              "      <td>-6.000000</td>\n",
              "      <td>0.000000</td>\n",
              "      <td>0.000000</td>\n",
              "      <td>0.000000</td>\n",
              "      <td>0.000000</td>\n",
              "      <td>0.000000</td>\n",
              "      <td>0.000000</td>\n",
              "      <td>0.000000</td>\n",
              "      <td>-7.000000</td>\n",
              "      <td>0.000000</td>\n",
              "      <td>0.000000</td>\n",
              "      <td>0.000000</td>\n",
              "      <td>3.000000</td>\n",
              "      <td>3.000000</td>\n",
              "      <td>0.000000</td>\n",
              "      <td>3.000000</td>\n",
              "      <td>3.000000</td>\n",
              "      <td>0.000000</td>\n",
              "      <td>0.000000</td>\n",
              "      <td>0.000000</td>\n",
              "      <td>0.000000</td>\n",
              "      <td>0.000000</td>\n",
              "      <td>0.000000</td>\n",
              "      <td>0.000000</td>\n",
              "      <td>0.000000</td>\n",
              "      <td>0.000000</td>\n",
              "      <td>0.00000</td>\n",
              "      <td>0.000000</td>\n",
              "      <td>0.000000</td>\n",
              "      <td>0.000000</td>\n",
              "      <td>0.000000</td>\n",
              "    </tr>\n",
              "    <tr>\n",
              "      <th>25%</th>\n",
              "      <td>0.00000</td>\n",
              "      <td>0.000000</td>\n",
              "      <td>0.000000</td>\n",
              "      <td>1.000000</td>\n",
              "      <td>3.000000</td>\n",
              "      <td>0.000000</td>\n",
              "      <td>0.000000</td>\n",
              "      <td>0.000000</td>\n",
              "      <td>0.000000</td>\n",
              "      <td>0.000000</td>\n",
              "      <td>0.000000</td>\n",
              "      <td>0.000000</td>\n",
              "      <td>0.000000</td>\n",
              "      <td>0.000000</td>\n",
              "      <td>0.000000</td>\n",
              "      <td>0.000000</td>\n",
              "      <td>0.000000</td>\n",
              "      <td>0.000000</td>\n",
              "      <td>0.000000</td>\n",
              "      <td>0.000000</td>\n",
              "      <td>0.000000</td>\n",
              "      <td>0.000000</td>\n",
              "      <td>0.000000</td>\n",
              "      <td>1.250000</td>\n",
              "      <td>1.000000</td>\n",
              "      <td>7.500000</td>\n",
              "      <td>0.000000</td>\n",
              "      <td>0.000000</td>\n",
              "      <td>0.000000</td>\n",
              "      <td>18.750000</td>\n",
              "      <td>19.000000</td>\n",
              "      <td>0.250000</td>\n",
              "      <td>18.500000</td>\n",
              "      <td>19.000000</td>\n",
              "      <td>0.250000</td>\n",
              "      <td>0.000000</td>\n",
              "      <td>0.000000</td>\n",
              "      <td>0.000000</td>\n",
              "      <td>0.000000</td>\n",
              "      <td>0.000000</td>\n",
              "      <td>0.000000</td>\n",
              "      <td>0.000000</td>\n",
              "      <td>0.000000</td>\n",
              "      <td>0.00000</td>\n",
              "      <td>0.000000</td>\n",
              "      <td>0.000000</td>\n",
              "      <td>0.000000</td>\n",
              "      <td>0.000000</td>\n",
              "    </tr>\n",
              "    <tr>\n",
              "      <th>50%</th>\n",
              "      <td>0.00000</td>\n",
              "      <td>0.000000</td>\n",
              "      <td>1.000000</td>\n",
              "      <td>1.000000</td>\n",
              "      <td>5.841667</td>\n",
              "      <td>0.000000</td>\n",
              "      <td>0.000000</td>\n",
              "      <td>0.000000</td>\n",
              "      <td>0.000000</td>\n",
              "      <td>0.000000</td>\n",
              "      <td>0.000000</td>\n",
              "      <td>0.000000</td>\n",
              "      <td>0.000000</td>\n",
              "      <td>0.000000</td>\n",
              "      <td>0.000000</td>\n",
              "      <td>0.000000</td>\n",
              "      <td>0.250000</td>\n",
              "      <td>0.250000</td>\n",
              "      <td>0.000000</td>\n",
              "      <td>0.000000</td>\n",
              "      <td>0.000000</td>\n",
              "      <td>0.000000</td>\n",
              "      <td>0.000000</td>\n",
              "      <td>3.250000</td>\n",
              "      <td>2.250000</td>\n",
              "      <td>21.750000</td>\n",
              "      <td>0.000000</td>\n",
              "      <td>0.000000</td>\n",
              "      <td>0.000000</td>\n",
              "      <td>22.500000</td>\n",
              "      <td>22.500000</td>\n",
              "      <td>0.500000</td>\n",
              "      <td>22.250000</td>\n",
              "      <td>22.500000</td>\n",
              "      <td>0.500000</td>\n",
              "      <td>0.000000</td>\n",
              "      <td>0.000000</td>\n",
              "      <td>0.000000</td>\n",
              "      <td>0.000000</td>\n",
              "      <td>0.000000</td>\n",
              "      <td>0.000000</td>\n",
              "      <td>0.000000</td>\n",
              "      <td>0.000000</td>\n",
              "      <td>0.00000</td>\n",
              "      <td>0.000000</td>\n",
              "      <td>0.000000</td>\n",
              "      <td>0.000000</td>\n",
              "      <td>1.000000</td>\n",
              "    </tr>\n",
              "    <tr>\n",
              "      <th>75%</th>\n",
              "      <td>1.00000</td>\n",
              "      <td>1.000000</td>\n",
              "      <td>1.000000</td>\n",
              "      <td>1.000000</td>\n",
              "      <td>10.400000</td>\n",
              "      <td>0.000000</td>\n",
              "      <td>0.000000</td>\n",
              "      <td>0.000000</td>\n",
              "      <td>0.000000</td>\n",
              "      <td>0.000000</td>\n",
              "      <td>0.000000</td>\n",
              "      <td>0.000000</td>\n",
              "      <td>0.000000</td>\n",
              "      <td>0.000000</td>\n",
              "      <td>0.000000</td>\n",
              "      <td>0.000000</td>\n",
              "      <td>3.500000</td>\n",
              "      <td>14.729167</td>\n",
              "      <td>0.000000</td>\n",
              "      <td>0.250000</td>\n",
              "      <td>0.000000</td>\n",
              "      <td>0.000000</td>\n",
              "      <td>0.000000</td>\n",
              "      <td>5.500000</td>\n",
              "      <td>3.500000</td>\n",
              "      <td>42.000000</td>\n",
              "      <td>0.250000</td>\n",
              "      <td>0.000000</td>\n",
              "      <td>0.000000</td>\n",
              "      <td>26.500000</td>\n",
              "      <td>26.250000</td>\n",
              "      <td>0.750000</td>\n",
              "      <td>26.500000</td>\n",
              "      <td>26.500000</td>\n",
              "      <td>0.750000</td>\n",
              "      <td>1.000000</td>\n",
              "      <td>0.000000</td>\n",
              "      <td>1.000000</td>\n",
              "      <td>0.000000</td>\n",
              "      <td>0.000000</td>\n",
              "      <td>0.000000</td>\n",
              "      <td>0.000000</td>\n",
              "      <td>0.000000</td>\n",
              "      <td>0.00000</td>\n",
              "      <td>1.000000</td>\n",
              "      <td>0.000000</td>\n",
              "      <td>0.000000</td>\n",
              "      <td>1.000000</td>\n",
              "    </tr>\n",
              "    <tr>\n",
              "      <th>max</th>\n",
              "      <td>1.00000</td>\n",
              "      <td>1.000000</td>\n",
              "      <td>1.000000</td>\n",
              "      <td>1.000000</td>\n",
              "      <td>44.090000</td>\n",
              "      <td>36.000000</td>\n",
              "      <td>54.000000</td>\n",
              "      <td>1.000000</td>\n",
              "      <td>403.000000</td>\n",
              "      <td>5.000000</td>\n",
              "      <td>3.000000</td>\n",
              "      <td>158.300000</td>\n",
              "      <td>7.000000</td>\n",
              "      <td>54.000000</td>\n",
              "      <td>2.000000</td>\n",
              "      <td>1.000000</td>\n",
              "      <td>29.500000</td>\n",
              "      <td>168.000000</td>\n",
              "      <td>2.000000</td>\n",
              "      <td>3.000000</td>\n",
              "      <td>2.000000</td>\n",
              "      <td>2.000000</td>\n",
              "      <td>0.500000</td>\n",
              "      <td>17.000000</td>\n",
              "      <td>15.000000</td>\n",
              "      <td>166.000000</td>\n",
              "      <td>3.000000</td>\n",
              "      <td>2.000000</td>\n",
              "      <td>0.333333</td>\n",
              "      <td>43.750000</td>\n",
              "      <td>43.750000</td>\n",
              "      <td>1.000000</td>\n",
              "      <td>43.750000</td>\n",
              "      <td>43.750000</td>\n",
              "      <td>1.000000</td>\n",
              "      <td>1.000000</td>\n",
              "      <td>1.000000</td>\n",
              "      <td>1.000000</td>\n",
              "      <td>1.000000</td>\n",
              "      <td>1.000000</td>\n",
              "      <td>1.000000</td>\n",
              "      <td>1.000000</td>\n",
              "      <td>1.000000</td>\n",
              "      <td>1.00000</td>\n",
              "      <td>1.000000</td>\n",
              "      <td>1.000000</td>\n",
              "      <td>1.000000</td>\n",
              "      <td>1.000000</td>\n",
              "    </tr>\n",
              "  </tbody>\n",
              "</table>\n",
              "</div>"
            ],
            "text/plain": [
              "              HOME          DOME  ...    TIME_Night     TIME_Noon\n",
              "count  22410.00000  22410.000000  ...  22410.000000  22410.000000\n",
              "mean       0.49286      0.250870  ...      0.196430      0.549353\n",
              "std        0.49996      0.433524  ...      0.397306      0.497569\n",
              "min        0.00000      0.000000  ...      0.000000      0.000000\n",
              "25%        0.00000      0.000000  ...      0.000000      0.000000\n",
              "50%        0.00000      0.000000  ...      0.000000      1.000000\n",
              "75%        1.00000      1.000000  ...      0.000000      1.000000\n",
              "max        1.00000      1.000000  ...      1.000000      1.000000\n",
              "\n",
              "[8 rows x 48 columns]"
            ]
          },
          "metadata": {
            "tags": []
          },
          "execution_count": 27
        }
      ]
    },
    {
      "cell_type": "markdown",
      "metadata": {
        "id": "lSg4twWmRDZK"
      },
      "source": [
        "As can be seen in the table above, the ranges of values differs greatly between each column. This suggest that in order to compare values across columns, we should to transform all are values to a similar scale.\r\n",
        "\r\n",
        "To do this, we will use the StandarScaler() method from sklearn.preprocessing"
      ]
    },
    {
      "cell_type": "code",
      "metadata": {
        "id": "J3WDmAoVGbz-"
      },
      "source": [
        "from sklearn.preprocessing import StandardScaler"
      ],
      "execution_count": 28,
      "outputs": []
    },
    {
      "cell_type": "code",
      "metadata": {
        "id": "SQKDT8GJGlVw"
      },
      "source": [
        "scaler = StandardScaler()\r\n",
        "scaler.fit(X_train)\r\n",
        "X_train_scaled = scaler.transform(X_train)\r\n",
        "X_test_scaled = scaler.transform(X_test)"
      ],
      "execution_count": 29,
      "outputs": []
    },
    {
      "cell_type": "code",
      "metadata": {
        "id": "ZZ_4KcCVICHY"
      },
      "source": [
        "#pd.DataFrame(X_train_scaled, columns=list(X.columns))"
      ],
      "execution_count": 30,
      "outputs": []
    },
    {
      "cell_type": "code",
      "metadata": {
        "id": "hGol3qI4ImZM"
      },
      "source": [
        "#pd.DataFrame(X_test_scaled, columns=list(X.columns))"
      ],
      "execution_count": 31,
      "outputs": []
    },
    {
      "cell_type": "markdown",
      "metadata": {
        "id": "421uELJ9MjsV"
      },
      "source": [
        "## Feature Elimination"
      ]
    },
    {
      "cell_type": "markdown",
      "metadata": {
        "id": "suIk1aOKMqI7"
      },
      "source": [
        "We still have 50 columns remaining in are data. \r\n",
        "\r\n",
        "Our target variable will either be 'FAN_TOT' or 'cluster_4' so these will be used as our y variable and not included as explantory variables.\r\n",
        "\r\n",
        "However, this sitll leaves us with 48 columns to be used as our explanatory features. This is still quite high and we would like to reduce the number of feature if possible. There are a couple of ways of doing this \r\n",
        "\r\n",
        "\r\n",
        "* Remove Low Variance Features\r\n",
        "* Remove Highly Correlated Features\r\n",
        "* Univariate Feature Selection\r\n",
        "* Recursive Feature Elimination\r\n",
        "* Meta-transforme Feature Elimination\r\n",
        "\r\n",
        "In the below sections, we will look at these various different approaches before deciding on best one for final feature selection.\r\n",
        "\r\n",
        "Finally, I would like to mention Principal Component Analysis. During our EDA, we looked at PCA as way to visualise our clustering but could also be used here for dimension reduction. However, applying this apporach removes column names and make the results more difficult to interpret. For this reason, I would prefer not go with this option for now.\r\n"
      ]
    },
    {
      "cell_type": "markdown",
      "metadata": {
        "id": "RmPgCwv6G5bZ"
      },
      "source": [
        "### Low Variance Feature Elimination"
      ]
    },
    {
      "cell_type": "markdown",
      "metadata": {
        "id": "V-bjWVIgHWKw"
      },
      "source": [
        "VarianceThreshold is a simple baseline approach to feature selection. It removes all features whose variance doesn’t meet some threshold. \r\n",
        "\r\n",
        "Below we have applied a threshold of 0.1, which means we are looking for columns where approximately 90% of the values are similar.\r\n",
        "\r\n",
        "When we apply this, we see that no columns are removed."
      ]
    },
    {
      "cell_type": "code",
      "metadata": {
        "colab": {
          "base_uri": "https://localhost:8080/"
        },
        "id": "QYNqPpNbHAD6",
        "outputId": "ea431452-fb23-4fcd-9dc5-ae47d03f6e0f"
      },
      "source": [
        "from sklearn.feature_selection import VarianceThreshold\r\n",
        "\r\n",
        "var_thres = VarianceThreshold(threshold=0.1)\r\n",
        "var_thres.fit(X_train_scaled)\r\n",
        "\r\n",
        "X_train_scaled_varthres = var_thres.transform(X_train_scaled)\r\n",
        "X_train_scaled_varthres.shape"
      ],
      "execution_count": 32,
      "outputs": [
        {
          "output_type": "execute_result",
          "data": {
            "text/plain": [
              "(16807, 48)"
            ]
          },
          "metadata": {
            "tags": []
          },
          "execution_count": 32
        }
      ]
    },
    {
      "cell_type": "code",
      "metadata": {
        "id": "yj8_85NcI3_5"
      },
      "source": [
        "cols = var_thres.get_support(indices=True)\r\n",
        "\r\n",
        "X_varthres = X.iloc[:,cols]\r\n",
        "#X_varthres.head()"
      ],
      "execution_count": 33,
      "outputs": []
    },
    {
      "cell_type": "markdown",
      "metadata": {
        "id": "K136BYhWKMwV"
      },
      "source": [
        "### Covariance Feature Selection"
      ]
    },
    {
      "cell_type": "markdown",
      "metadata": {
        "id": "X5KHYL0y8X_g"
      },
      "source": [
        "Next we will check the dataset to see if it contain correlated features. Two or more than two features are correlated if they are close to each other in the linear space.\r\n",
        "\r\n",
        "Correlation between the output observations and the input features is very important and such features should be retained. However, if two or more than two features are mutually correlated, they convey redundant information to the model and hence only one of the correlated features should be retained to reduce the number of features.\r\n",
        "\r\n",
        "https://stackabuse.com/applying-filter-methods-in-python-for-feature-selection/ \r\n",
        "\r\n",
        "Below we look to identify which variables have a correlation (or pearson coefficient) greater than 0.8 and look to drop these columns. This reduces the dataset by 11 features to 37."
      ]
    },
    {
      "cell_type": "code",
      "metadata": {
        "id": "I9uXEFFtRnFO"
      },
      "source": [
        "X_train_scaled_df = pd.DataFrame(X_train_scaled, columns=X.columns)\r\n",
        "\r\n",
        "# Create correlation matrix\r\n",
        "corr_matrix = X_train_scaled_df.corr().abs()\r\n",
        "\r\n",
        "# Select upper triangle of correlation matrix\r\n",
        "upper = corr_matrix.where(np.triu(np.ones(corr_matrix.shape), k=1).astype(np.bool))\r\n",
        "\r\n",
        "# Find index of feature columns with correlation greater than 0.8\r\n",
        "to_drop = [column for column in upper.columns if any(upper[column] > 0.8)]"
      ],
      "execution_count": 34,
      "outputs": []
    },
    {
      "cell_type": "code",
      "metadata": {
        "id": "uI0EnQrmSLEg",
        "colab": {
          "base_uri": "https://localhost:8080/",
          "height": 792
        },
        "outputId": "1bfb9829-1bd2-4396-a347-200cd254f760"
      },
      "source": [
        "_ = plt.figure(figsize=(14, 12))\r\n",
        "_ = sns.heatmap(corr_matrix, linewidth=.1, cmap='summer', annot=False)\r\n",
        "\r\n",
        "plt.show()"
      ],
      "execution_count": 35,
      "outputs": [
        {
          "output_type": "display_data",
          "data": {
            "image/png": "[encoded data removed]",
            "text/plain": [
              "<Figure size 1008x864 with 2 Axes>"
            ]
          },
          "metadata": {
            "tags": [],
            "needs_background": "light"
          }
        }
      ]
    },
    {
      "cell_type": "code",
      "metadata": {
        "id": "a_rTCwelR0Vs",
        "colab": {
          "base_uri": "https://localhost:8080/"
        },
        "outputId": "14b096da-e768-426a-a39f-b1d974a769b8"
      },
      "source": [
        "to_drop"
      ],
      "execution_count": 36,
      "outputs": [
        {
          "output_type": "execute_result",
          "data": {
            "text/plain": [
              "['PASSATT_AVG',\n",
              " 'PASSCOMP%_AVG',\n",
              " 'PASSYDS_AVG',\n",
              " 'PASSTD_AVG',\n",
              " 'INT_AVG',\n",
              " 'QBRAT_AVG',\n",
              " 'SACK_AVG',\n",
              " 'SACKYDS_AVG',\n",
              " 'RUSHYDS_AVG',\n",
              " 'REC_AVG',\n",
              " 'RECYDS_AVG']"
            ]
          },
          "metadata": {
            "tags": []
          },
          "execution_count": 36
        }
      ]
    },
    {
      "cell_type": "code",
      "metadata": {
        "colab": {
          "base_uri": "https://localhost:8080/"
        },
        "id": "0og0yqOztLv6",
        "outputId": "5322706b-a38a-4316-ec09-10c548272157"
      },
      "source": [
        "X_covar = X.drop(columns=to_drop)\r\n",
        "X_covar.shape"
      ],
      "execution_count": 37,
      "outputs": [
        {
          "output_type": "execute_result",
          "data": {
            "text/plain": [
              "(22410, 37)"
            ]
          },
          "metadata": {
            "tags": []
          },
          "execution_count": 37
        }
      ]
    },
    {
      "cell_type": "markdown",
      "metadata": {
        "id": "6N8UeKLlGq1G"
      },
      "source": [
        "### Univariate Feature Selection"
      ]
    },
    {
      "cell_type": "markdown",
      "metadata": {
        "id": "wSvY9NOAG07x"
      },
      "source": [
        "Univariate feature selection works by selecting the best features based on univariate statistical tests. \r\n",
        "\r\n",
        "These filter methods methods where individual features are ranked according to specific criteria with the top N or perentile of features are then selected. Different types of ranking criteria are used for univariate filter methods, for example fisher score, mutual information, and variance of the feature.\r\n",
        "\r\n",
        "One disadvantage of univariate filter methods is that they may select redundant features because the relationship between individual features is not taken into account while making decisions. Univariate filter methods are ideal for removing constant and quasi-constant features from the data.\r\n",
        "\r\n",
        "Below we used f_regression and mutual_info_regression from sklearn.feature_selection package to understand which columns could potentially be removed from the dataset. For each model, I use a different approach for selecting features - with SelectPercentile for f_regression to identify the features in top 50% of features, and SelectKBest for mutual_info_regression to identify the top 5 features in the data using this approach. This results in the following dimension reduction in the data:\r\n",
        "\r\n",
        "* f_regression (with SelectPercentile): 24 columns\r\n",
        "* mutual_info_regression (with Select KBest): 5 columns"
      ]
    },
    {
      "cell_type": "code",
      "metadata": {
        "id": "KSGC6Xfw6tDn"
      },
      "source": [
        "from sklearn.feature_selection import SelectKBest, SelectPercentile\r\n",
        "from sklearn.feature_selection import f_regression, mutual_info_regression\r\n",
        "\r\n",
        "#X_train_scaled.shape"
      ],
      "execution_count": 38,
      "outputs": []
    },
    {
      "cell_type": "markdown",
      "metadata": {
        "id": "QbMtB4A1GMKu"
      },
      "source": [
        "#### F_Regression"
      ]
    },
    {
      "cell_type": "code",
      "metadata": {
        "colab": {
          "base_uri": "https://localhost:8080/"
        },
        "id": "PCaTaUxe692y",
        "outputId": "1aec7c3d-1f60-495b-eb99-805716ccff15"
      },
      "source": [
        "f_reg = SelectPercentile(f_regression, percentile=50)\r\n",
        "f_reg.fit(X_train_scaled, y_train)\r\n",
        "\r\n",
        "X_train_scaled_freg = f_reg.transform(X_train_scaled)\r\n",
        "X_train_scaled_freg.shape"
      ],
      "execution_count": 39,
      "outputs": [
        {
          "output_type": "execute_result",
          "data": {
            "text/plain": [
              "(16807, 24)"
            ]
          },
          "metadata": {
            "tags": []
          },
          "execution_count": 39
        }
      ]
    },
    {
      "cell_type": "code",
      "metadata": {
        "id": "tFGmf4nYEO1s"
      },
      "source": [
        "cols = f_reg.get_support(indices=True)\r\n",
        "\r\n",
        "X_freg = X.iloc[:,cols]\r\n",
        "\r\n",
        "#X_freg.head()\r\n",
        "#list(X_freg.columns)"
      ],
      "execution_count": 40,
      "outputs": []
    },
    {
      "cell_type": "markdown",
      "metadata": {
        "id": "O75IRtsKGdYo"
      },
      "source": [
        "#### Mutual Info Regression"
      ]
    },
    {
      "cell_type": "code",
      "metadata": {
        "colab": {
          "base_uri": "https://localhost:8080/"
        },
        "id": "OWplMI7aFHnd",
        "outputId": "e82d48e4-a356-486b-c6a4-4b91a96c483d"
      },
      "source": [
        "mi_reg = SelectKBest(mutual_info_regression, k=5)\r\n",
        "mi_reg.fit(X_train_scaled, y_train)\r\n",
        "\r\n",
        "X_train_scaled_mireg = mi_reg.transform(X_train_scaled)\r\n",
        "X_train_scaled_mireg.shape"
      ],
      "execution_count": 41,
      "outputs": [
        {
          "output_type": "execute_result",
          "data": {
            "text/plain": [
              "(16807, 5)"
            ]
          },
          "metadata": {
            "tags": []
          },
          "execution_count": 41
        }
      ]
    },
    {
      "cell_type": "code",
      "metadata": {
        "id": "hEeSc-N-F6R0"
      },
      "source": [
        "cols = mi_reg.get_support(indices=True)\r\n",
        "\r\n",
        "X_mireg = X.iloc[:,cols]\r\n",
        "\r\n",
        "#X_mireg.head()\r\n",
        "#list(X_mireg.columns)"
      ],
      "execution_count": 42,
      "outputs": []
    },
    {
      "cell_type": "markdown",
      "metadata": {
        "id": "6FQPusDCMO6H"
      },
      "source": [
        "### Recursive Feature Elimination"
      ]
    },
    {
      "cell_type": "markdown",
      "metadata": {
        "id": "yRWTVWtNCUKL"
      },
      "source": [
        "Feature ranking with recursive feature elimination.\r\n",
        "\r\n",
        "Given an external estimator that assigns weights to features (e.g., the coefficients of a linear model), the goal of recursive feature elimination (RFE) is to select features by recursively considering smaller and smaller sets of features. First, the estimator is trained on the initial set of features and the importance of each feature is obtained either through any specific attribute or callable. Then, the least important features are pruned from current set of features. That procedure is recursively repeated on the pruned set until the desired number of features to select is eventually reached.\r\n",
        "\r\n",
        "https://scikit-learn.org/stable/modules/generated/sklearn.feature_selection.RFE.html#sklearn.feature_selection.RFE \r\n",
        "\r\n",
        "For this approach, I used two models:\r\n",
        "1. RFE model using an Support Vector Regression (SVR) estimator aimed at selecting the top 5 features in the dataset\r\n",
        "2. RFECV model using a Linear Regression / OLS estimator aimed at minimising the MSE"
      ]
    },
    {
      "cell_type": "markdown",
      "metadata": {
        "id": "xd9BYR7kpltt"
      },
      "source": [
        "#### Linear SVR"
      ]
    },
    {
      "cell_type": "code",
      "metadata": {
        "colab": {
          "base_uri": "https://localhost:8080/"
        },
        "id": "jXxp2yujMSq7",
        "outputId": "23a93d7c-8989-41d1-9056-2661f637468b"
      },
      "source": [
        "from sklearn.feature_selection import RFE\r\n",
        "from sklearn.svm import SVR\r\n",
        "\r\n",
        "estimator = SVR(kernel=\"linear\")\r\n",
        "selector = RFE(estimator, n_features_to_select=5, step=1)\r\n",
        "selector.fit(X_train_scaled, y_train)\r\n",
        "\r\n",
        "#selector.support_\r\n",
        "#selector.ranking_"
      ],
      "execution_count": 84,
      "outputs": [
        {
          "output_type": "execute_result",
          "data": {
            "text/plain": [
              "RFE(estimator=SVR(C=1.0, cache_size=200, coef0=0.0, degree=3, epsilon=0.1,\n",
              "                  gamma='scale', kernel='linear', max_iter=-1, shrinking=True,\n",
              "                  tol=0.001, verbose=False),\n",
              "    n_features_to_select=5, step=1, verbose=0)"
            ]
          },
          "metadata": {
            "tags": []
          },
          "execution_count": 84
        }
      ]
    },
    {
      "cell_type": "code",
      "metadata": {
        "colab": {
          "base_uri": "https://localhost:8080/",
          "height": 206
        },
        "id": "pzvzCyW_SAVS",
        "outputId": "c3e54830-df81-4d10-de50-e4089f9fa230"
      },
      "source": [
        "cols = selector.get_support(indices=True)\r\n",
        "\r\n",
        "X_selector = X.iloc[:,cols]\r\n",
        "\r\n",
        "X_selector.head()"
      ],
      "execution_count": 85,
      "outputs": [
        {
          "output_type": "execute_result",
          "data": {
            "text/html": [
              "<div>\n",
              "<style scoped>\n",
              "    .dataframe tbody tr th:only-of-type {\n",
              "        vertical-align: middle;\n",
              "    }\n",
              "\n",
              "    .dataframe tbody tr th {\n",
              "        vertical-align: top;\n",
              "    }\n",
              "\n",
              "    .dataframe thead th {\n",
              "        text-align: right;\n",
              "    }\n",
              "</style>\n",
              "<table border=\"1\" class=\"dataframe\">\n",
              "  <thead>\n",
              "    <tr style=\"text-align: right;\">\n",
              "      <th></th>\n",
              "      <th>FAN_AVG</th>\n",
              "      <th>PASSATT_AVG</th>\n",
              "      <th>PASSYDS_AVG</th>\n",
              "      <th>RUSHATT_AVG</th>\n",
              "      <th>TGTS_AVG</th>\n",
              "    </tr>\n",
              "  </thead>\n",
              "  <tbody>\n",
              "    <tr>\n",
              "      <th>0</th>\n",
              "      <td>1.1</td>\n",
              "      <td>0.0</td>\n",
              "      <td>0.0</td>\n",
              "      <td>1.0</td>\n",
              "      <td>2.0</td>\n",
              "    </tr>\n",
              "    <tr>\n",
              "      <th>1</th>\n",
              "      <td>6.0</td>\n",
              "      <td>0.0</td>\n",
              "      <td>0.0</td>\n",
              "      <td>0.0</td>\n",
              "      <td>11.0</td>\n",
              "    </tr>\n",
              "    <tr>\n",
              "      <th>2</th>\n",
              "      <td>0.1</td>\n",
              "      <td>0.0</td>\n",
              "      <td>0.0</td>\n",
              "      <td>0.0</td>\n",
              "      <td>1.0</td>\n",
              "    </tr>\n",
              "    <tr>\n",
              "      <th>3</th>\n",
              "      <td>0.5</td>\n",
              "      <td>0.0</td>\n",
              "      <td>0.0</td>\n",
              "      <td>0.0</td>\n",
              "      <td>2.0</td>\n",
              "    </tr>\n",
              "    <tr>\n",
              "      <th>4</th>\n",
              "      <td>2.9</td>\n",
              "      <td>40.0</td>\n",
              "      <td>175.0</td>\n",
              "      <td>1.0</td>\n",
              "      <td>0.0</td>\n",
              "    </tr>\n",
              "  </tbody>\n",
              "</table>\n",
              "</div>"
            ],
            "text/plain": [
              "   FAN_AVG  PASSATT_AVG  PASSYDS_AVG  RUSHATT_AVG  TGTS_AVG\n",
              "0      1.1          0.0          0.0          1.0       2.0\n",
              "1      6.0          0.0          0.0          0.0      11.0\n",
              "2      0.1          0.0          0.0          0.0       1.0\n",
              "3      0.5          0.0          0.0          0.0       2.0\n",
              "4      2.9         40.0        175.0          1.0       0.0"
            ]
          },
          "metadata": {
            "tags": []
          },
          "execution_count": 85
        }
      ]
    },
    {
      "cell_type": "markdown",
      "metadata": {
        "id": "Lo8MJg2Tphsb"
      },
      "source": [
        "#### Linear Regression"
      ]
    },
    {
      "cell_type": "code",
      "metadata": {
        "colab": {
          "base_uri": "https://localhost:8080/"
        },
        "id": "Vr3WmIovS-Ju",
        "outputId": "903d3dab-1cb2-4b29-a1de-1620da10e7a2"
      },
      "source": [
        "from sklearn.feature_selection import RFECV\r\n",
        "from sklearn.linear_model import LinearRegression\r\n",
        "\r\n",
        "ols = LinearRegression()\r\n",
        "rfecv = RFECV(estimator=ols, step=1, scoring='neg_mean_squared_error')\r\n",
        "\r\n",
        "rfecv.fit(X_train_scaled, y_train)"
      ],
      "execution_count": 45,
      "outputs": [
        {
          "output_type": "execute_result",
          "data": {
            "text/plain": [
              "RFECV(cv=None,\n",
              "      estimator=LinearRegression(copy_X=True, fit_intercept=True, n_jobs=None,\n",
              "                                 normalize=False),\n",
              "      min_features_to_select=1, n_jobs=None, scoring='neg_mean_squared_error',\n",
              "      step=1, verbose=0)"
            ]
          },
          "metadata": {
            "tags": []
          },
          "execution_count": 45
        }
      ]
    },
    {
      "cell_type": "code",
      "metadata": {
        "colab": {
          "base_uri": "https://localhost:8080/"
        },
        "id": "6tfSp-o-UJBe",
        "outputId": "fe90eda0-ad38-4d6a-db9e-a8a8a3ff901b"
      },
      "source": [
        "rfecv.support_\r\n",
        "rfecv.ranking_"
      ],
      "execution_count": 46,
      "outputs": [
        {
          "output_type": "execute_result",
          "data": {
            "text/plain": [
              "array([ 1, 10,  1, 17,  1,  1,  1,  1,  1,  1,  8,  1,  1,  1,  1,  9,  1,\n",
              "        1,  1,  1,  1,  1, 21,  1,  1,  1,  1,  1, 13,  4,  5,  1, 14,  1,\n",
              "        6,  1,  3,  7, 15,  1, 22, 19, 18, 12, 11,  2, 16, 20])"
            ]
          },
          "metadata": {
            "tags": []
          },
          "execution_count": 46
        }
      ]
    },
    {
      "cell_type": "code",
      "metadata": {
        "colab": {
          "base_uri": "https://localhost:8080/"
        },
        "id": "NSc8FTLkVQg-",
        "outputId": "fdc1908b-90ff-41ad-bcae-c729efe1bb25"
      },
      "source": [
        "cols = rfecv.get_support(indices=True)\r\n",
        "\r\n",
        "X_rfecv = X.iloc[:,cols]\r\n",
        "\r\n",
        "X_rfecv.head()\r\n",
        "X_rfecv.shape"
      ],
      "execution_count": 47,
      "outputs": [
        {
          "output_type": "execute_result",
          "data": {
            "text/plain": [
              "(22410, 27)"
            ]
          },
          "metadata": {
            "tags": []
          },
          "execution_count": 47
        }
      ]
    },
    {
      "cell_type": "markdown",
      "metadata": {
        "id": "2sbUoAIXmkeH"
      },
      "source": [
        "### SelectFromModel"
      ]
    },
    {
      "cell_type": "markdown",
      "metadata": {
        "id": "egnxLDmisNt8"
      },
      "source": [
        "SelectFromModel is a meta-transformer that can be used along with any estimator that importance of each feature through a specific attribute (such as coef_, feature_importances_) or callable after fitting. The features are considered unimportant and removed, if the corresponding importance of the feature values are below the provided threshold parameter.\r\n",
        "\r\n",
        "https://scikit-learn.org/stable/modules/feature_selection.html \r\n",
        "\r\n",
        "Below I have applied this approach using a Lasso Regression model."
      ]
    },
    {
      "cell_type": "markdown",
      "metadata": {
        "id": "jeXhA_7_pd8O"
      },
      "source": [
        "#### Lasso Regression"
      ]
    },
    {
      "cell_type": "code",
      "metadata": {
        "colab": {
          "base_uri": "https://localhost:8080/"
        },
        "id": "Gw7IX9Hymqgf",
        "outputId": "2495933c-4098-4d68-dc15-41329ef0bb62"
      },
      "source": [
        "from sklearn.linear_model import Lasso\r\n",
        "from sklearn.feature_selection import SelectFromModel\r\n",
        "\r\n",
        "lasso_feat = Lasso(alpha=1, random_state=42)\r\n",
        "select_model = SelectFromModel(lasso_feat, threshold='mean')\r\n",
        "select_model.fit(X_train_scaled, y_train)"
      ],
      "execution_count": 48,
      "outputs": [
        {
          "output_type": "execute_result",
          "data": {
            "text/plain": [
              "SelectFromModel(estimator=Lasso(alpha=1, copy_X=True, fit_intercept=True,\n",
              "                                max_iter=1000, normalize=False, positive=False,\n",
              "                                precompute=False, random_state=42,\n",
              "                                selection='cyclic', tol=0.0001,\n",
              "                                warm_start=False),\n",
              "                max_features=None, norm_order=1, prefit=False,\n",
              "                threshold='mean')"
            ]
          },
          "metadata": {
            "tags": []
          },
          "execution_count": 48
        }
      ]
    },
    {
      "cell_type": "code",
      "metadata": {
        "colab": {
          "base_uri": "https://localhost:8080/",
          "height": 206
        },
        "id": "fwYAQm7doeev",
        "outputId": "1b6b677d-998b-494b-8f42-3f9dd08a37a6"
      },
      "source": [
        "cols = select_model.get_support(indices=True)\r\n",
        "\r\n",
        "X_select_model = X.iloc[:,cols]\r\n",
        "\r\n",
        "\r\n",
        "X_select_model.shape\r\n",
        "X_select_model.head()"
      ],
      "execution_count": 49,
      "outputs": [
        {
          "output_type": "execute_result",
          "data": {
            "text/html": [
              "<div>\n",
              "<style scoped>\n",
              "    .dataframe tbody tr th:only-of-type {\n",
              "        vertical-align: middle;\n",
              "    }\n",
              "\n",
              "    .dataframe tbody tr th {\n",
              "        vertical-align: top;\n",
              "    }\n",
              "\n",
              "    .dataframe thead th {\n",
              "        text-align: right;\n",
              "    }\n",
              "</style>\n",
              "<table border=\"1\" class=\"dataframe\">\n",
              "  <thead>\n",
              "    <tr style=\"text-align: right;\">\n",
              "      <th></th>\n",
              "      <th>FAN_AVG</th>\n",
              "      <th>PASSATT_AVG</th>\n",
              "    </tr>\n",
              "  </thead>\n",
              "  <tbody>\n",
              "    <tr>\n",
              "      <th>0</th>\n",
              "      <td>1.1</td>\n",
              "      <td>0.0</td>\n",
              "    </tr>\n",
              "    <tr>\n",
              "      <th>1</th>\n",
              "      <td>6.0</td>\n",
              "      <td>0.0</td>\n",
              "    </tr>\n",
              "    <tr>\n",
              "      <th>2</th>\n",
              "      <td>0.1</td>\n",
              "      <td>0.0</td>\n",
              "    </tr>\n",
              "    <tr>\n",
              "      <th>3</th>\n",
              "      <td>0.5</td>\n",
              "      <td>0.0</td>\n",
              "    </tr>\n",
              "    <tr>\n",
              "      <th>4</th>\n",
              "      <td>2.9</td>\n",
              "      <td>40.0</td>\n",
              "    </tr>\n",
              "  </tbody>\n",
              "</table>\n",
              "</div>"
            ],
            "text/plain": [
              "   FAN_AVG  PASSATT_AVG\n",
              "0      1.1          0.0\n",
              "1      6.0          0.0\n",
              "2      0.1          0.0\n",
              "3      0.5          0.0\n",
              "4      2.9         40.0"
            ]
          },
          "metadata": {
            "tags": []
          },
          "execution_count": 49
        }
      ]
    },
    {
      "cell_type": "markdown",
      "metadata": {
        "id": "KWy8Ec37rLjf"
      },
      "source": [
        "### Summary"
      ]
    },
    {
      "cell_type": "markdown",
      "metadata": {
        "id": "StuiZTKQkuHf"
      },
      "source": [
        "Variety of different approaches were used to identify what features should be included in the analysis. Below highlights the number of features include in each model.\r\n",
        "\r\n",
        "After review, it seems the Recursive Feature Elimination approach provides the most comprehensive technique for removing variables by using an iterative process to select the optimal number of features. Based on this, we will look to repeat this process in the next section to identify the correct number of features to proceed with in our model."
      ]
    },
    {
      "cell_type": "code",
      "metadata": {
        "id": "nbrOQo9MtBDr"
      },
      "source": [
        "feat_reduction_sizes = [X_varthres.shape[1], X_covar.shape[1], X_freg.shape[1], X_mireg.shape[1], X_selector.shape[1], X_rfecv.shape[1], X_select_model.shape[1] ]\r\n",
        "feat_reduction_names = ['Variance Threshold', 'Covariance', 'Univariate w/ freg', 'Univariate w/ mutual info reg', 'Recursive w/ SVR', 'Recursive w/ Linear Reg', 'SelectFromModel w/ Lasso' ]\r\n",
        "feat_reduction_cols = [list(X_varthres.columns), list(X_covar.columns), list(X_freg.columns), list(X_mireg.columns), list(X_selector.columns), list(X_rfecv.columns), list(X_select_model.columns) ]"
      ],
      "execution_count": null,
      "outputs": []
    },
    {
      "cell_type": "code",
      "metadata": {
        "id": "BRT0V21ivg41"
      },
      "source": [
        "_ = plt.figure(figsize=(20,4))\r\n",
        "_ = plt.bar(feat_reduction_names, feat_reduction_sizes)\r\n",
        "_ = plt.ylabel('Number of Features')\r\n",
        "_ = plt.title('Final Features by Elimination Model')\r\n",
        "\r\n",
        "plt.show()"
      ],
      "execution_count": null,
      "outputs": []
    },
    {
      "cell_type": "code",
      "metadata": {
        "id": "z3oZkoCRwk6d"
      },
      "source": [
        "feat_elim_df = pd.DataFrame({'Model Name': feat_reduction_names, 'Number of Features': feat_reduction_sizes, 'Columns Included':feat_reduction_cols})\r\n",
        "feat_elim_df"
      ],
      "execution_count": null,
      "outputs": []
    },
    {
      "cell_type": "code",
      "metadata": {
        "id": "CHSxQ3n62KUs"
      },
      "source": [
        "feat_elim_df[feat_elim_df['Number of Features'] == 5]"
      ],
      "execution_count": null,
      "outputs": []
    },
    {
      "cell_type": "code",
      "metadata": {
        "id": "fRwCq42F0ZIt"
      },
      "source": [
        "for row in feat_elim_df[feat_elim_df['Number of Features'] == 5]['Columns Included']:\r\n",
        "  print(row[0])\r\n",
        "  print(row[1])\r\n",
        "  print(row[2])\r\n",
        "  print(row[3])\r\n",
        "  print(row[4])\r\n",
        "  print()"
      ],
      "execution_count": null,
      "outputs": []
    },
    {
      "cell_type": "code",
      "metadata": {
        "id": "bsOZLS_z2itC"
      },
      "source": [
        "#for x in list(X_rfecv.columns):\r\n",
        "  #print(x)"
      ],
      "execution_count": null,
      "outputs": []
    },
    {
      "cell_type": "markdown",
      "metadata": {
        "id": "YfcO6D4EpvM6"
      },
      "source": [
        "### Final Features"
      ]
    },
    {
      "cell_type": "markdown",
      "metadata": {
        "id": "ybhe6GqZp3Cr"
      },
      "source": [
        "We will run our final feature elimination model - a RFECV (Recursive Feature Elimination with Cross-Validation). The estimator for this will be an SVR using a \"linear\" kernel and reguralisation parameter of 1.\r\n",
        "\r\n",
        "Ideally, I would have performed this model on multiple kernels and C levels but due to time and computing restraints, this is not possible at moment but an area for improvement in future analysis.\r\n",
        "\r\n",
        "The model identifies 24 features as being optimal number for our modelling."
      ]
    },
    {
      "cell_type": "code",
      "metadata": {
        "colab": {
          "base_uri": "https://localhost:8080/"
        },
        "id": "50pyhc5kwEe2",
        "outputId": "3ca8d275-03fb-4f9d-a79f-b453ad9d10d2"
      },
      "source": [
        "from sklearn.feature_selection import RFECV\r\n",
        "from sklearn.svm import SVR\r\n",
        "\r\n",
        "estimator = SVR(kernel=\"linear\", C=1, epsilon=0.1, gamma='scale')\r\n",
        "rfecv = RFECV(estimator, step=1, scoring='neg_mean_squared_error')\r\n",
        "rfecv.fit(X_train_scaled, y_train)"
      ],
      "execution_count": 50,
      "outputs": [
        {
          "output_type": "execute_result",
          "data": {
            "text/plain": [
              "RFECV(cv=None,\n",
              "      estimator=SVR(C=1, cache_size=200, coef0=0.0, degree=3, epsilon=0.1,\n",
              "                    gamma='scale', kernel='linear', max_iter=-1, shrinking=True,\n",
              "                    tol=0.001, verbose=False),\n",
              "      min_features_to_select=1, n_jobs=None, scoring='neg_mean_squared_error',\n",
              "      step=1, verbose=0)"
            ]
          },
          "metadata": {
            "tags": []
          },
          "execution_count": 50
        }
      ]
    },
    {
      "cell_type": "code",
      "metadata": {
        "colab": {
          "base_uri": "https://localhost:8080/"
        },
        "id": "vPusvv4aevsa",
        "outputId": "95422cb2-b445-4d9b-c463-38e3245b9f51"
      },
      "source": [
        "cols = rfecv.get_support(indices=True)\r\n",
        "\r\n",
        "X_rfecv = X.iloc[:,cols]\r\n",
        "\r\n",
        "X_rfecv.head()\r\n",
        "X_rfecv.shape\r\n",
        "#X_rfecv.columns"
      ],
      "execution_count": 78,
      "outputs": [
        {
          "output_type": "execute_result",
          "data": {
            "text/plain": [
              "(22410, 24)"
            ]
          },
          "metadata": {
            "tags": []
          },
          "execution_count": 78
        }
      ]
    },
    {
      "cell_type": "code",
      "metadata": {
        "colab": {
          "base_uri": "https://localhost:8080/",
          "height": 623
        },
        "id": "C8-OCRDojsc8",
        "outputId": "419e5d45-2539-4d66-f350-c07e71a97e32"
      },
      "source": [
        "plt.figure(figsize=(16, 9))\r\n",
        "plt.title('Recursive Feature Elimination with Cross-Validation', fontsize=18, fontweight='bold', pad=20)\r\n",
        "plt.xlabel('Number of features selected', fontsize=14, labelpad=20)\r\n",
        "plt.ylabel('% Mean Squared Error', fontsize=14, labelpad=20)\r\n",
        "plt.plot(range(1, len(rfecv.grid_scores_) + 1), rfecv.grid_scores_, color='#303F9F', linewidth=3)\r\n",
        "\r\n",
        "plt.show()\r\n",
        "\r\n",
        "print(\"Optimal number of features : %d\" % rfecv.n_features_)"
      ],
      "execution_count": 58,
      "outputs": [
        {
          "output_type": "display_data",
          "data": {
            "image/png": "[encoded data removed]",
            "text/plain": [
              "<Figure size 1152x648 with 1 Axes>"
            ]
          },
          "metadata": {
            "tags": [],
            "needs_background": "light"
          }
        },
        {
          "output_type": "stream",
          "text": [
            "Optimal number of features : 24\n"
          ],
          "name": "stdout"
        }
      ]
    },
    {
      "cell_type": "code",
      "metadata": {
        "colab": {
          "base_uri": "https://localhost:8080/",
          "height": 878
        },
        "id": "EjEyu9DAsTQ3",
        "outputId": "8816f78f-6608-4ef6-c6ce-3215e3b9d279"
      },
      "source": [
        "dset = pd.DataFrame()\r\n",
        "dset['attr'] = X_rfecv.columns\r\n",
        "dset['importance'] = np.absolute(rfecv.estimator_.coef_[0])\r\n",
        "\r\n",
        "dset = dset.sort_values(by='importance', ascending=True)\r\n",
        "\r\n",
        "plt.figure(figsize=(16, 14))\r\n",
        "plt.barh(y=dset['attr'], width=dset['importance'], color='#1976D2')\r\n",
        "plt.title('RFECV - Feature Importances', fontsize=20, fontweight='bold', pad=20)\r\n",
        "plt.xlabel('Importance', fontsize=14, labelpad=20)\r\n",
        "plt.show()"
      ],
      "execution_count": 76,
      "outputs": [
        {
          "output_type": "display_data",
          "data": {
            "image/png": "[encoded data removed]",
            "text/plain": [
              "<Figure size 1152x1008 with 1 Axes>"
            ]
          },
          "metadata": {
            "tags": [],
            "needs_background": "light"
          }
        }
      ]
    },
    {
      "cell_type": "code",
      "metadata": {
        "id": "0_gl0pkdu43U"
      },
      "source": [
        "#rfecv.support_\r\n",
        "#rfecv.ranking_\r\n"
      ],
      "execution_count": 77,
      "outputs": []
    },
    {
      "cell_type": "markdown",
      "metadata": {
        "id": "u24GT_wn0B3C"
      },
      "source": [
        "#### Transform Training and Test Data"
      ]
    },
    {
      "cell_type": "markdown",
      "metadata": {
        "id": "DYKb4vRx1pcO"
      },
      "source": [
        "Lastly, I will transform my X_train_scaled and X_test_scaled data to reflect the features identified in the RFECV model."
      ]
    },
    {
      "cell_type": "code",
      "metadata": {
        "id": "QX9UnPQFr3in"
      },
      "source": [
        "X_train = rfecv.transform(X_train_scaled)\r\n",
        "X_test = rfecv.transform(X_test_scaled)"
      ],
      "execution_count": 80,
      "outputs": []
    },
    {
      "cell_type": "markdown",
      "metadata": {
        "id": "fonzLtn1EER3"
      },
      "source": [
        "## Regression"
      ]
    },
    {
      "cell_type": "markdown",
      "metadata": {
        "id": "9nJ55WuU-CYg"
      },
      "source": [
        "'FAN_ACTUAL' is the target variable of this analysis and is a continuous variable - for this reason we will be focused on Regression.\r\n",
        "\r\n",
        "Linear Regression has a number of assumptions to be met:\r\n",
        "\r\n",
        "1. Linear relationship: There exists a linear relationship between the independent variables and the dependent variable.\r\n",
        "\r\n",
        "2. Independence: The residuals are independent.\r\n",
        "\r\n",
        "3. Homoscedasticity: The residuals have constant variance at every level of x.\r\n",
        "\r\n",
        "4. Normality: The residuals of the model are normally distributed.\r\n",
        "\r\n",
        "If one or more of these assumptions are violated, then the results of our linear regression may be unreliable or even misleading.\r\n",
        "\r\n",
        "https://www.statology.org/linear-regression-assumptions/ "
      ]
    },
    {
      "cell_type": "markdown",
      "metadata": {
        "id": "kmKA2hIx_Ppf"
      },
      "source": [
        "With the above in mind, we will begin with simple regression models and look to expand on this once we get a sense of how the model is performing."
      ]
    },
    {
      "cell_type": "markdown",
      "metadata": {
        "id": "Vgy4lQB3EG4h"
      },
      "source": [
        "**MAY USE, NOT SURE**\r\n",
        "\r\n",
        "Given a dataset containing predictor variables X and outcome/response variable Y, linear regression can be used to:\r\n",
        "\r\n",
        "* Build a predictive model to predict future values of Y^, using new data X∗ where Y is unknown.\r\n",
        "* Model the strength of the relationship between each independent variable Xi and Y\r\n",
        "  * Many times, only a subset of independent variables Xi will have a linear relationship with Y\r\n",
        "  * Need to figure out which Xi contributes most information to predict Y\r\n",
        "* It is in many cases, the first pass prediction algorithm for continuous outcomes.\r\n",
        "\r\n"
      ]
    },
    {
      "cell_type": "markdown",
      "metadata": {
        "id": "q0DlAfvi_mWg"
      },
      "source": [
        "### OLS"
      ]
    },
    {
      "cell_type": "code",
      "metadata": {
        "id": "AktdEkVhAfOD"
      },
      "source": [
        "X_train_scaled_df = pd.DataFrame(X_train_scaled, columns=X.columns)"
      ],
      "execution_count": null,
      "outputs": []
    },
    {
      "cell_type": "markdown",
      "metadata": {
        "id": "hQma4JMiA6yU"
      },
      "source": [
        "#### MODEL 1: FAN_ACTUAL vs FAN_AVG"
      ]
    },
    {
      "cell_type": "code",
      "metadata": {
        "id": "PD3rpSVqA_Ek"
      },
      "source": [
        "import statsmodels.api as sm\r\n",
        "\r\n",
        "X_train1 = X_train_scaled_df['FAN_AVG']\r\n",
        "X_train1 = sm.add_constant(X_train1)\r\n",
        "y_train = np.array(y_train)"
      ],
      "execution_count": null,
      "outputs": []
    },
    {
      "cell_type": "code",
      "metadata": {
        "id": "uGWp0R2-Cv9u"
      },
      "source": [
        "OLS_1 = sm.OLS(y_train, X_train1)\r\n",
        "OLS_1 = OLS_1.fit()\r\n",
        "\r\n",
        "print(OLS_1.summary())"
      ],
      "execution_count": null,
      "outputs": []
    },
    {
      "cell_type": "markdown",
      "metadata": {
        "id": "cp5gjHFuE04b"
      },
      "source": [
        "Decent start\r\n",
        "\r\n",
        "F-statistic is significant - meaning we can reject the null that the coefficients in model are 0 and do not imporve the model's fit.\r\n",
        "\r\n",
        "R-squared is 0.314 - meaning that the model currently explains 31% of the variance in our target variable, 'FAN_ACTUAL'.\r\n",
        "\r\n",
        "FAN_AVG coefficient is signficant - meaning that fantasy 4-week average performance statistically significant predictor of how a player will perform in a given week. The coefficient of 4.5 seems to indicate that a one STD increase in FAN_AVG (because we have scaled data) will translate to an additional 4.5 fantasy points in a given week.\r\n",
        "\r\n",
        "Durbin-Watson of 2.041 suggests the model does not suffer from Autocorrelation."
      ]
    },
    {
      "cell_type": "markdown",
      "metadata": {
        "id": "B33wZXbwII5W"
      },
      "source": [
        "#### MODEL 2: FAN_ACTUAL vs FAN_AVG (with Position included)"
      ]
    },
    {
      "cell_type": "code",
      "metadata": {
        "id": "pqBpTCgtIW9g"
      },
      "source": [
        "X.columns"
      ],
      "execution_count": null,
      "outputs": []
    },
    {
      "cell_type": "code",
      "metadata": {
        "id": "4tRve3fqINp5"
      },
      "source": [
        "X_train2 = X_train_scaled_df[['FAN_AVG', 'POS_RB', 'POS_TE', 'POS_WR']]\r\n",
        "X_train2 = sm.add_constant(X_train2)\r\n",
        "\r\n",
        "OLS_2 = sm.OLS(y_train, X_train2)\r\n",
        "OLS_2 = OLS_2.fit()\r\n",
        "\r\n",
        "print(OLS_2.summary())"
      ],
      "execution_count": null,
      "outputs": []
    },
    {
      "cell_type": "markdown",
      "metadata": {
        "id": "oNCfhqMkJNId"
      },
      "source": [
        "#### MODEL 3/4: FAN_ACTUAL vs FAN_AVG (with Position and Month included)"
      ]
    },
    {
      "cell_type": "code",
      "metadata": {
        "id": "9H6X2HZIJXtP"
      },
      "source": [
        "X_train3 = X_train_scaled_df[['FAN_AVG', 'POS_RB', 'POS_TE', 'POS_WR', 'MONTH_January', 'MONTH_November', 'MONTH_October', 'MONTH_September']]\r\n",
        "X_train3 = sm.add_constant(X_train3)\r\n",
        "\r\n",
        "OLS_3 = sm.OLS(y_train, X_train3)\r\n",
        "OLS_3 = OLS_3.fit()\r\n",
        "\r\n",
        "print(OLS_3.summary())"
      ],
      "execution_count": null,
      "outputs": []
    },
    {
      "cell_type": "markdown",
      "metadata": {
        "id": "_VsVREJvJ0Xo"
      },
      "source": [
        "Little change. R-squared remained the same.\r\n",
        "\r\n",
        "Only September seems to have an impact."
      ]
    },
    {
      "cell_type": "code",
      "metadata": {
        "id": "ExrcG26IKKDG"
      },
      "source": [
        "X_train4 = X_train_scaled_df[['FAN_AVG', 'POS_RB', 'POS_TE', 'POS_WR', 'MONTH_September']]\r\n",
        "X_train4 = sm.add_constant(X_train4)\r\n",
        "\r\n",
        "OLS_4 = sm.OLS(y_train, X_train4)\r\n",
        "OLS_4 = OLS_4.fit()\r\n",
        "\r\n",
        "print(OLS_4.summary())"
      ],
      "execution_count": null,
      "outputs": []
    },
    {
      "cell_type": "markdown",
      "metadata": {
        "id": "zl1iKoprKpMh"
      },
      "source": [
        "#### MODEL 5: FAN_ACTUAL vs FAN_AVG (with Position, September and Time of Day included)"
      ]
    },
    {
      "cell_type": "code",
      "metadata": {
        "id": "abZRiCsqKwIh"
      },
      "source": [
        "X_train5 = X_train_scaled_df[['FAN_AVG', 'POS_RB', 'POS_TE', 'POS_WR', 'MONTH_September', 'TIME_Night', 'TIME_Noon']]\r\n",
        "X_train5 = sm.add_constant(X_train5)\r\n",
        "\r\n",
        "OLS_5 = sm.OLS(y_train, X_train5)\r\n",
        "OLS_5 = OLS_5.fit()\r\n",
        "\r\n",
        "print(OLS_5.summary())"
      ],
      "execution_count": null,
      "outputs": []
    },
    {
      "cell_type": "markdown",
      "metadata": {
        "id": "krFCky7aLIES"
      },
      "source": [
        "Time of Day does not improve the model."
      ]
    },
    {
      "cell_type": "markdown",
      "metadata": {
        "id": "oDdDsKrMLTU0"
      },
      "source": [
        "MODEL 6/7: FAN_ACTUAL vs FAN_AVG (with Position, September and Season included)"
      ]
    },
    {
      "cell_type": "code",
      "metadata": {
        "id": "S53p8ALVLbB_"
      },
      "source": [
        "X_train6 = X_train_scaled_df[['FAN_AVG', 'POS_RB', 'POS_TE', 'POS_WR', 'MONTH_September','SEASON_2016', 'SEASON_2017', 'SEASON_2018', 'SEASON_2019' ]]\r\n",
        "X_train6 = sm.add_constant(X_train6)\r\n",
        "\r\n",
        "OLS_6 = sm.OLS(y_train, X_train6)\r\n",
        "OLS_6 = OLS_6.fit()\r\n",
        "\r\n",
        "print(OLS_6.summary())"
      ],
      "execution_count": null,
      "outputs": []
    },
    {
      "cell_type": "markdown",
      "metadata": {
        "id": "EHd-NPoqL0OF"
      },
      "source": [
        "Only 2017 adds value to the model."
      ]
    },
    {
      "cell_type": "code",
      "metadata": {
        "id": "4uwrqc8TL9sf"
      },
      "source": [
        "X_train7 = X_train_scaled_df[['FAN_AVG', 'POS_RB', 'POS_TE', 'POS_WR', 'MONTH_September', 'SEASON_2017']]\r\n",
        "X_train7 = sm.add_constant(X_train7)\r\n",
        "\r\n",
        "OLS_7 = sm.OLS(y_train, X_train7)\r\n",
        "OLS_7 = OLS_7.fit()\r\n",
        "\r\n",
        "print(OLS_7.summary())"
      ],
      "execution_count": null,
      "outputs": []
    },
    {
      "cell_type": "markdown",
      "metadata": {
        "id": "29DjzL-xMQ9W"
      },
      "source": [
        "MODEL 8/9: FAN_ACTUAL vs FAN_AVG (with Position, September, 2017 Season and Gameday stats included)"
      ]
    },
    {
      "cell_type": "code",
      "metadata": {
        "id": "lhllqylkMuJW"
      },
      "source": [
        "X_train8 = X_train_scaled_df[['FAN_AVG', 'POS_RB', 'POS_TE', 'POS_WR', 'MONTH_September', 'SEASON_2017', 'HOME', 'DOME', 'GRASS', 'SUNDAY']]\r\n",
        "X_train8 = sm.add_constant(X_train8)\r\n",
        "\r\n",
        "OLS_8 = sm.OLS(y_train, X_train8)\r\n",
        "OLS_8 = OLS_8.fit()\r\n",
        "\r\n",
        "print(OLS_8.summary())"
      ],
      "execution_count": null,
      "outputs": []
    },
    {
      "cell_type": "markdown",
      "metadata": {
        "id": "qGl7DgkvNQhO"
      },
      "source": [
        "Stadium type (Dome or Open roof) and Day of Week (Sunday or not) do not significantly add to the model.\r\n",
        "\r\n",
        "Playing at home significantly does so will include going forward.\r\n",
        "\r\n",
        "Grass is not significant at a 5% level but because it is close to the border, it does not completely rule it out as possible variable of interest. We will keep this in the back of mind as a potential useful variable but for now will exclude."
      ]
    },
    {
      "cell_type": "code",
      "metadata": {
        "id": "C8ZjTZoDOHGL"
      },
      "source": [
        "X_train9 = X_train_scaled_df[['FAN_AVG', 'POS_RB', 'POS_TE', 'POS_WR', 'MONTH_September', 'SEASON_2017', 'HOME']]\r\n",
        "X_train9 = sm.add_constant(X_train9)\r\n",
        "\r\n",
        "OLS_9 = sm.OLS(y_train, X_train9)\r\n",
        "OLS_9 = OLS_9.fit()\r\n",
        "\r\n",
        "print(OLS_9.summary())"
      ],
      "execution_count": null,
      "outputs": []
    },
    {
      "cell_type": "markdown",
      "metadata": {
        "id": "gyXa3vhbOcWV"
      },
      "source": [
        "R-squared is slightly up but will do review of all models later on."
      ]
    },
    {
      "cell_type": "markdown",
      "metadata": {
        "id": "ManFoiL0OA_z"
      },
      "source": [
        "MODEL 10/11: FAN_ACTUAL vs FAN_AVG (with Position, September, 2017 Season, Home and Team stats included)"
      ]
    },
    {
      "cell_type": "code",
      "metadata": {
        "id": "dUL-0_eqOyYO"
      },
      "source": [
        "X_train10 = X_train_scaled_df[['FAN_AVG', 'POS_RB', 'POS_TE', 'POS_WR', 'MONTH_September', 'SEASON_2017', 'HOME', 'PTS_FOR_AVG', 'PTS_AGT_AVG', 'WIN/TIE_AVG']]\r\n",
        "X_train10 = sm.add_constant(X_train10)\r\n",
        "\r\n",
        "OLS_10 = sm.OLS(y_train, X_train10)\r\n",
        "OLS_10 = OLS_10.fit()\r\n",
        "\r\n",
        "print(OLS_10.summary())\r\n",
        "\r\n"
      ],
      "execution_count": null,
      "outputs": []
    },
    {
      "cell_type": "markdown",
      "metadata": {
        "id": "SvX1Qg0dPZu5"
      },
      "source": [
        "R-squared increased.\r\n",
        "\r\n",
        "Win/Tie rate is not significant.\r\n",
        "\r\n",
        "Points Against is not significant at 5% level (but not far off) so will exclude for now.\r\n",
        "\r\n",
        "Points For is significant but interestingly enough it is suggesting a negative relationship meaning that as your team's average points scored goes up, your projected fantasy performance goes down. This is slightly counter intuitive but seeing but given it's significance I will include and see if it holds up."
      ]
    },
    {
      "cell_type": "code",
      "metadata": {
        "id": "u9gN2k3DQkOM"
      },
      "source": [
        "X_train11 = X_train_scaled_df[['FAN_AVG', 'POS_RB', 'POS_TE', 'POS_WR', 'MONTH_September', 'SEASON_2017', 'HOME', 'PTS_FOR_AVG']]\r\n",
        "X_train11 = sm.add_constant(X_train11)\r\n",
        "\r\n",
        "OLS_11 = sm.OLS(y_train, X_train11)\r\n",
        "OLS_11 = OLS_11.fit()\r\n",
        "\r\n",
        "print(OLS_11.summary())"
      ],
      "execution_count": null,
      "outputs": []
    },
    {
      "cell_type": "markdown",
      "metadata": {
        "id": "iUmgJFoAQ7RP"
      },
      "source": [
        "MODEL 12: FAN_ACTUAL vs FAN_AVG (with Position, September, 2017 Season, Home, Points For and Opp stats included)"
      ]
    },
    {
      "cell_type": "code",
      "metadata": {
        "id": "8aTsGDWuQ3HN"
      },
      "source": [
        "X_train12 = X_train_scaled_df[['FAN_AVG', 'POS_RB', 'POS_TE', 'POS_WR', 'MONTH_September', 'SEASON_2017', 'HOME', 'PTS_FOR_AVG', 'OPP_PTS_FOR_AVG', 'OPP_PTS_AGT_AVG', 'OPP_WIN/TIE_AVG']]\r\n",
        "X_train12 = sm.add_constant(X_train12)\r\n",
        "\r\n",
        "OLS_12 = sm.OLS(y_train, X_train12)\r\n",
        "OLS_12 = OLS_12.fit()\r\n",
        "\r\n",
        "print(OLS_12.summary())"
      ],
      "execution_count": null,
      "outputs": []
    },
    {
      "cell_type": "markdown",
      "metadata": {
        "id": "UgO_u-jjRldE"
      },
      "source": [
        "Opponent's Win/Tie rate and Points For are not significant.\r\n",
        "\r\n",
        "Opponent's Points Agains is significant and suggest that the higher the opposition has conceded on average in the previous week will improve a player's fantasy performance."
      ]
    },
    {
      "cell_type": "code",
      "metadata": {
        "id": "0hkr6ZbrSN-Y"
      },
      "source": [
        "X_train13 = X_train_scaled_df[['FAN_AVG', 'POS_RB', 'POS_TE', 'POS_WR', 'MONTH_September', 'SEASON_2017', 'HOME', 'PTS_FOR_AVG', 'OPP_PTS_AGT_AVG']]\r\n",
        "X_train13 = sm.add_constant(X_train13)\r\n",
        "\r\n",
        "OLS_13 = sm.OLS(y_train, X_train13)\r\n",
        "OLS_13 = OLS_13.fit()\r\n",
        "\r\n",
        "print(OLS_13.summary())"
      ],
      "execution_count": null,
      "outputs": []
    },
    {
      "cell_type": "markdown",
      "metadata": {
        "id": "P_RN_KGFSw8T"
      },
      "source": [
        "#### MODEL 14: Player Stats"
      ]
    },
    {
      "cell_type": "code",
      "metadata": {
        "id": "2vBB7IhZS9Ex"
      },
      "source": [
        "X.columns"
      ],
      "execution_count": null,
      "outputs": []
    },
    {
      "cell_type": "code",
      "metadata": {
        "id": "A5dFhWnIS8L5"
      },
      "source": [
        "X_train14 = X_train_scaled_df[['FAN_AVG', 'POS_RB', 'POS_TE', 'POS_WR', 'MONTH_September', 'SEASON_2017', 'HOME', 'PTS_FOR_AVG', 'OPP_PTS_AGT_AVG',\r\n",
        "                               'PASSCOMP_AVG', 'PASSATT_AVG', 'PASSCOMP%_AVG', 'PASSYDS_AVG', 'PASSTD_AVG', 'INT_AVG', 'QBRAT_AVG', 'SACK_AVG', 'SACKYDS_AVG', \r\n",
        "                               'PASSYDS_300_AVG', 'PASSYDS_400_AVG', 'RUSHATT_AVG', 'RUSHYDS_AVG', 'RUSHTD_AVG','FUM_AVG', 'FUMLST_AVG', 'RUSHYDS_100_AVG', 'RUSHYDS_200_AVG',\r\n",
        "                               'TGTS_AVG', 'REC_AVG', 'RECYDS_AVG', 'RECTD_AVG']]\r\n",
        "X_train14 = sm.add_constant(X_train14)\r\n",
        "\r\n",
        "OLS_14 = sm.OLS(y_train, X_train14)\r\n",
        "OLS_14 = OLS_14.fit()\r\n",
        "\r\n",
        "print(OLS_14.summary())"
      ],
      "execution_count": null,
      "outputs": []
    },
    {
      "cell_type": "markdown",
      "metadata": {
        "id": "6AnuodXz0WWz"
      },
      "source": [
        "## SGD Regressor"
      ]
    },
    {
      "cell_type": "code",
      "metadata": {
        "id": "at8XncM-0bYS"
      },
      "source": [
        "from sklearn.linear_model import SGDRegressor\r\n",
        "\r\n",
        "sgd_reg = SGDRegressor(max_iter=1000, tol=1e-3)\r\n",
        "\r\n",
        "sgd_reg.fit(X_train_scaled, y_train)"
      ],
      "execution_count": null,
      "outputs": []
    },
    {
      "cell_type": "code",
      "metadata": {
        "id": "IM7hxR9V1eHp"
      },
      "source": [
        "y_pred = sgd_reg.predict(X_train_scaled)"
      ],
      "execution_count": null,
      "outputs": []
    },
    {
      "cell_type": "code",
      "metadata": {
        "id": "tEdTjSSz1m4E"
      },
      "source": [
        "from sklearn.metrics import r2_score\r\n",
        "from sklearn.metrics import mean_squared_error,mean_absolute_error\r\n",
        "\r\n",
        "r2_score(y_train, y_pred)\r\n",
        "sgd_reg.score(X_train_scaled, y_train)"
      ],
      "execution_count": null,
      "outputs": []
    },
    {
      "cell_type": "code",
      "metadata": {
        "id": "Pd-KxbES44nJ"
      },
      "source": [
        "plt.scatter(y_train,y_pred)\r\n",
        "plt.grid()\r\n",
        "plt.xlabel('Actual y')\r\n",
        "plt.ylabel('Predicted y')\r\n",
        "plt.title('Scatter plot from actual y and predicted y')\r\n",
        "plt.show()\r\n",
        "\r\n",
        "print('Mean Squared Error :',mean_squared_error(y_train, y_pred))"
      ],
      "execution_count": null,
      "outputs": []
    },
    {
      "cell_type": "markdown",
      "metadata": {
        "id": "71IKjbAhhh4S"
      },
      "source": [
        "## ElasticNetCV"
      ]
    },
    {
      "cell_type": "code",
      "metadata": {
        "id": "-8Iwse67hhQH"
      },
      "source": [
        "from sklearn.linear_model import ElasticNetCV\r\n",
        "\r\n",
        "elasticCV_reg = ElasticNetCV(cv=5, random_state=0)\r\n",
        "elasticCV_reg.fit(X_train_scaled, y_train)\r\n",
        "ElasticNetCV(cv=5, random_state=0)\r\n",
        "\r\n",
        "print(elasticCV_reg.alpha_)\r\n",
        "print(elasticCV_reg.intercept_)\r\n",
        "y_pred = elasticCV_reg.predict(X_train_scaled)\r\n",
        "\r\n"
      ],
      "execution_count": null,
      "outputs": []
    },
    {
      "cell_type": "code",
      "metadata": {
        "id": "QWzCiVmpjdpq"
      },
      "source": [
        "plt.scatter(y_train,y_pred)\r\n",
        "plt.grid()\r\n",
        "plt.xlabel('Actual y')\r\n",
        "plt.ylabel('Predicted y')\r\n",
        "plt.title('Scatter plot from actual y and predicted y')\r\n",
        "plt.show()\r\n",
        "\r\n",
        "print('Mean Squared Error :',mean_squared_error(y_train, y_pred))"
      ],
      "execution_count": null,
      "outputs": []
    },
    {
      "cell_type": "markdown",
      "metadata": {
        "id": "8qW9ECl_kHqO"
      },
      "source": [
        "## Lasso CV"
      ]
    },
    {
      "cell_type": "code",
      "metadata": {
        "id": "t5LGUM7PkGFj"
      },
      "source": [
        "from sklearn.linear_model import LassoCV\r\n",
        "\r\n",
        "lassoCV_reg = LassoCV(cv=5, random_state=0)\r\n",
        "lassoCV_reg.fit(X_train_scaled, y_train)\r\n",
        "\r\n",
        "y_pred = lassoCV_reg.predict(X_train_scaled)\r\n",
        "\r\n",
        "print(lassoCV_reg.score(X_train_scaled, y_train))"
      ],
      "execution_count": null,
      "outputs": []
    },
    {
      "cell_type": "code",
      "metadata": {
        "id": "TBjkRkA0lR7x"
      },
      "source": [
        "plt.scatter(y_train,y_pred)\r\n",
        "plt.grid()\r\n",
        "plt.xlabel('Actual y')\r\n",
        "plt.ylabel('Predicted y')\r\n",
        "plt.title('Scatter plot from actual y and predicted y')\r\n",
        "plt.show()\r\n",
        "\r\n",
        "print('Mean Squared Error :',mean_squared_error(y_train, y_pred))"
      ],
      "execution_count": null,
      "outputs": []
    },
    {
      "cell_type": "markdown",
      "metadata": {
        "id": "zW2706h0mSFN"
      },
      "source": [
        "## Multi-Task Elastic Net CV"
      ]
    },
    {
      "cell_type": "code",
      "metadata": {
        "id": "9OBYXoWomQ0q"
      },
      "source": [
        "'''\r\n",
        "\r\n",
        "from sklearn.linear_model import MultiTaskElasticNetCV\r\n",
        "\r\n",
        "mten_cv_reg = MultiTaskElasticNetCV(cv=5)\r\n",
        "mten_cv_reg.fit(X_train_scaled, y_train)\r\n",
        "\r\n",
        "print(mten_cv_reg.coef_)\r\n",
        "\r\n",
        "print(mten_cv_reg.intercept_)\r\n",
        "\r\n",
        "'''"
      ],
      "execution_count": null,
      "outputs": []
    },
    {
      "cell_type": "markdown",
      "metadata": {
        "id": "yiwfxiBnrku6"
      },
      "source": [
        "## Decision Tree Regressor"
      ]
    },
    {
      "cell_type": "code",
      "metadata": {
        "id": "-WGq4oXGrsjy"
      },
      "source": [
        "from sklearn.tree import DecisionTreeRegressor\r\n",
        "from sklearn.tree import export_graphviz\r\n",
        "\r\n",
        "# Fit regression model\r\n",
        "dt_reg_1 = DecisionTreeRegressor(max_depth=2)\r\n",
        "dt_reg_1.fit(X_train_scaled, y_train)\r\n",
        "\r\n",
        "y_1 = dt_reg_1.predict(X_train_scaled)\r\n",
        "\r\n",
        "#Model 2\r\n",
        "#dt_reg_2 = DecisionTreeRegressor(max_depth=5)\r\n",
        "#dt_reg_2.fit(X_train_scaled, y_train)\r\n",
        "#y_2 = dt_reg_2.predict(X_train_scaled)\r\n",
        "\r\n",
        "\r\n",
        "import graphviz\r\n",
        "\r\n",
        "dot_data = export_graphviz(dt_reg_1, out_file=None) \r\n",
        "graph = graphviz.Source(dot_data)\r\n",
        "graph\r\n",
        "\r\n",
        "# Alternatively for class_names use entr_model.classes_\r\n",
        "dot_data = export_graphviz(dt_reg_1, out_file=None, class_names=dt_reg_1.classes_, feature_names=X.columns) \r\n",
        "graph = graphviz.Source(dot_data)\r\n",
        "graph"
      ],
      "execution_count": null,
      "outputs": []
    },
    {
      "cell_type": "code",
      "metadata": {
        "id": "oQ8g36qp5YXA"
      },
      "source": [
        "print('Mean Squared Error :',mean_squared_error(y_train, y_1))\r\n",
        "print('R-squared :',r2_score(y_train, y_1))"
      ],
      "execution_count": null,
      "outputs": []
    },
    {
      "cell_type": "code",
      "metadata": {
        "id": "i1JP0V2I5oBy"
      },
      "source": [
        "# Fit regression model\r\n",
        "dt_reg_2 = DecisionTreeRegressor(max_depth=5)\r\n",
        "dt_reg_2.fit(X_train_scaled, y_train)\r\n",
        "y_2 = dt_reg_2.predict(X_train_scaled)"
      ],
      "execution_count": null,
      "outputs": []
    },
    {
      "cell_type": "code",
      "metadata": {
        "id": "6gO68jVk5y2P"
      },
      "source": [
        "dot_data = export_graphviz(dt_reg_2, out_file=None, class_names=dt_reg_1.classes_, feature_names=X.columns) \r\n",
        "graph = graphviz.Source(dot_data)\r\n",
        "graph"
      ],
      "execution_count": null,
      "outputs": []
    },
    {
      "cell_type": "code",
      "metadata": {
        "id": "6MrsBlIc57wH"
      },
      "source": [
        "print('Mean Squared Error :',mean_squared_error(y_train, y_2))\r\n",
        "print('R-squared :',r2_score(y_train, y_2))"
      ],
      "execution_count": null,
      "outputs": []
    },
    {
      "cell_type": "code",
      "metadata": {
        "id": "48oTvRZnNf9z"
      },
      "source": [
        "# Fit regression model\r\n",
        "dt_reg_3 = DecisionTreeRegressor()\r\n",
        "dt_reg_3.fit(X_train_scaled, y_train)\r\n",
        "y_3 = dt_reg_3.predict(X_train_scaled)"
      ],
      "execution_count": null,
      "outputs": []
    },
    {
      "cell_type": "code",
      "metadata": {
        "id": "IOHnBRrFPS2K"
      },
      "source": [
        "print('Mean Squared Error :',mean_squared_error(y_train, y_3))\r\n",
        "print('R-squared :',r2_score(y_train, y_3))"
      ],
      "execution_count": null,
      "outputs": []
    },
    {
      "cell_type": "markdown",
      "metadata": {
        "id": "MmeCnIwyQZ9w"
      },
      "source": [
        "## Random Forest Regressor"
      ]
    },
    {
      "cell_type": "markdown",
      "metadata": {
        "id": "i2o3QYqvQhqD"
      },
      "source": [
        ""
      ]
    },
    {
      "cell_type": "code",
      "metadata": {
        "id": "Mo-1zpe8QiEY"
      },
      "source": [
        "from sklearn.ensemble import RandomForestRegressor\r\n",
        "\r\n",
        "rf_reg = RandomForestRegressor(max_depth=2, random_state=0)\r\n",
        "rf_reg.fit(X_train_scaled, y_train)\r\n",
        "\r\n",
        "y_4 = rf_reg.predict(X_train_scaled)"
      ],
      "execution_count": null,
      "outputs": []
    },
    {
      "cell_type": "code",
      "metadata": {
        "id": "kBV7cl6ESZgY"
      },
      "source": [
        "print('Mean Squared Error :',mean_squared_error(y_train, y_4))\r\n",
        "print('R-squared :',r2_score(y_train, y_4))"
      ],
      "execution_count": null,
      "outputs": []
    },
    {
      "cell_type": "code",
      "metadata": {
        "id": "X-d9AwupWTuN"
      },
      "source": [
        "#Feature importances:\r\n",
        "\r\n",
        "features = X.columns\r\n",
        "importances = list(rf_reg.feature_importances_)\r\n",
        "imp=np.sort(importances)\r\n",
        "tab=pd.DataFrame(list(zip(X.columns,imp)),columns =['Features', 'Importance scores']) \r\n",
        "print(tab)\r\n",
        "\r\n",
        "#Visual comparison:\r\n",
        "plt.figure(figsize=(10,5))\r\n",
        "#indices = np.argsort(importances)\r\n",
        "index = [0,1,2,3,4,5,6,7,8,9,10,11,12,13,14,15,16,17,18,19,20,21,22,23,24,25,26,27,28,29,30,31,32,33,34,35,36,37,38,39,40,41,42,43,44,45,46,47]\r\n",
        "_=plt.barh(index,imp, align='center',color='b')\r\n",
        "plt.xlabel('Relative Importance',fontsize=15)\r\n",
        "plt.ylabel('Features',fontsize=15)\r\n",
        "plt.yticks(index, features)\r\n",
        "plt.title('Feature Importances for Random Forest classifier model',fontsize=15)\r\n",
        "plt.savefig(\"28.png\")\r\n",
        "plt.show()\r\n",
        "#len(importances)"
      ],
      "execution_count": null,
      "outputs": []
    },
    {
      "cell_type": "code",
      "metadata": {
        "id": "mLNtOe1YStab"
      },
      "source": [
        "from sklearn.ensemble import RandomForestRegressor\r\n",
        "\r\n",
        "rf_reg = RandomForestRegressor(n_estimators=1000, max_features=0.5, max_depth=5, min_samples_leaf=25 ,random_state=42)\r\n",
        "rf_reg.fit(X_train_scaled, y_train)\r\n",
        "\r\n",
        "y_5 = rf_reg.predict(X_train_scaled)"
      ],
      "execution_count": null,
      "outputs": []
    },
    {
      "cell_type": "code",
      "metadata": {
        "id": "-RrdEt2yURnM"
      },
      "source": [
        "print('Mean Squared Error :',mean_squared_error(y_train, y_5))\r\n",
        "print('R-squared :',r2_score(y_train, y_5))"
      ],
      "execution_count": null,
      "outputs": []
    },
    {
      "cell_type": "code",
      "metadata": {
        "id": "8GOHTPMNUzfT"
      },
      "source": [
        "#Feature importances:\r\n",
        "\r\n",
        "features = X.columns\r\n",
        "importances = list(rf_reg.feature_importances_)\r\n",
        "imp=np.sort(importances)\r\n",
        "tab=pd.DataFrame(list(zip(X.columns,imp)),columns =['Features', 'Importance scores']) \r\n",
        "print(tab)\r\n",
        "\r\n",
        "#Visual comparison:\r\n",
        "plt.figure(figsize=(10,5))\r\n",
        "#indices = np.argsort(importances)\r\n",
        "index = [0,1,2,3,4,5,6,7,8,9,10,11,12,13,14,15,16,17,18,19,20,21,22,23,24,25,26,27,28,29,30,31,32,33,34,35,36,37,38,39,40,41,42,43,44,45,46,47]\r\n",
        "_=plt.barh(index,imp, align='center',color='b')\r\n",
        "plt.xlabel('Relative Importance',fontsize=15)\r\n",
        "plt.ylabel('Features',fontsize=15)\r\n",
        "plt.yticks(index, features)\r\n",
        "plt.title('Feature Importances for Random Forest classifier model',fontsize=15)\r\n",
        "plt.savefig(\"28.png\")\r\n",
        "plt.show()\r\n",
        "#len(importances)"
      ],
      "execution_count": null,
      "outputs": []
    },
    {
      "cell_type": "code",
      "metadata": {
        "id": "9uCntMaHWxK7"
      },
      "source": [
        "from sklearn.ensemble import GradientBoostingRegressor\r\n",
        "\r\n",
        "gb_reg = GradientBoostingRegressor(random_state=0)\r\n",
        "gb_reg.fit(X_train_scaled, y_train)\r\n",
        "\r\n",
        "y_6 = gb_reg.predict(X_train_scaled)"
      ],
      "execution_count": null,
      "outputs": []
    },
    {
      "cell_type": "code",
      "metadata": {
        "id": "wUzQVwoVXJpo"
      },
      "source": [
        "print('Mean Squared Error :',mean_squared_error(y_train, y_6))\r\n",
        "print('R-squared :',r2_score(y_train, y_6))"
      ],
      "execution_count": null,
      "outputs": []
    },
    {
      "cell_type": "code",
      "metadata": {
        "id": "PK5gj0vMXUhW"
      },
      "source": [
        "#Feature importances:\r\n",
        "\r\n",
        "features = X.columns\r\n",
        "importances = list(gb_reg.feature_importances_)\r\n",
        "imp=np.sort(importances)\r\n",
        "tab=pd.DataFrame(list(zip(X.columns,imp)),columns =['Features', 'Importance scores']) \r\n",
        "print(tab)\r\n",
        "\r\n",
        "#Visual comparison:\r\n",
        "plt.figure(figsize=(10,5))\r\n",
        "#indices = np.argsort(importances)\r\n",
        "index = [0,1,2,3,4,5,6,7,8,9,10,11,12,13,14,15,16,17,18,19,20,21,22,23,24,25,26,27,28,29,30,31,32,33,34,35,36,37,38,39,40,41,42,43,44,45,46,47]\r\n",
        "_=plt.barh(index,imp, align='center',color='b')\r\n",
        "plt.xlabel('Relative Importance',fontsize=15)\r\n",
        "plt.ylabel('Features',fontsize=15)\r\n",
        "plt.yticks(index, features)\r\n",
        "plt.title('Feature Importances for Random Forest classifier model',fontsize=15)\r\n",
        "plt.savefig(\"28.png\")\r\n",
        "plt.show()\r\n",
        "#len(importances)"
      ],
      "execution_count": null,
      "outputs": []
    }
  ]
}